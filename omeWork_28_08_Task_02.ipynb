{
  "nbformat": 4,
  "nbformat_minor": 0,
  "metadata": {
    "colab": {
      "provenance": [],
      "name": "omeWork_28.08_Task_02.ipynb",
      "authorship_tag": "ABX9TyPpPW1Z79g2NhR46GDeS1Zy",
      "include_colab_link": true
    },
    "kernelspec": {
      "name": "python3",
      "display_name": "Python 3"
    },
    "language_info": {
      "name": "python"
    }
  },
  "cells": [
    {
      "cell_type": "markdown",
      "metadata": {
        "id": "view-in-github",
        "colab_type": "text"
      },
      "source": [
        "<a href=\"https://colab.research.google.com/github/ARt2406/June_test/blob/main/omeWork_28_08_Task_02.ipynb\" target=\"_parent\"><img src=\"https://colab.research.google.com/assets/colab-badge.svg\" alt=\"Open In Colab\"/></a>"
      ]
    },
    {
      "cell_type": "code",
      "execution_count": 3,
      "metadata": {
        "id": "h_o9--c8vIfM",
        "colab": {
          "base_uri": "https://localhost:8080/"
        },
        "outputId": "96b0b27a-a186-4f2f-b7bd-4458744d0baa"
      },
      "outputs": [
        {
          "output_type": "stream",
          "name": "stdout",
          "text": [
            "46368\n",
            " time: 0.01969\n",
            "46368\n",
            " time: 0.01947\n"
          ]
        }
      ],
      "source": [
        "import time\n",
        "\n",
        "def memo(func):\n",
        "  cache = {}\n",
        "  def hitch(x):\n",
        "    if x not in cache:\n",
        "      cache[x] = func(x)\n",
        "      return cache[n]\n",
        "    return memo\n",
        "\n",
        "def fib_r(n):\n",
        "  if n <= 1:\n",
        "    return n\n",
        "  return fib_r(n-1) + fib_m(n-2)\n",
        "\n",
        "def fib_m(n):\n",
        "  if n <= 1:\n",
        "    return n\n",
        "  return fib_m(n-1) + fib_m(n-2)\n",
        "\n",
        "n = 24\n",
        "\n",
        "start_time = time.time()\n",
        "print(fib_r(n))\n",
        "print(f' time: {time.time() - start_time:.5f}')\n",
        "\n",
        "start_time = time.time()\n",
        "print(fib_m(n))\n",
        "print(f' time: {time.time() - start_time:.5f}')\n"
      ]
    }
  ]
}
{
  "nbformat": 4,
  "nbformat_minor": 0,
  "metadata": {
    "colab": {
      "provenance": [],
      "authorship_tag": "ABX9TyP2OBatRuavq6Vish4/BP56",
      "include_colab_link": true
    },
    "kernelspec": {
      "name": "python3",
      "display_name": "Python 3"
    },
    "language_info": {
      "name": "python"
    }
  },
  "cells": [
    {
      "cell_type": "markdown",
      "metadata": {
        "id": "view-in-github",
        "colab_type": "text"
      },
      "source": [
        "<a href=\"https://colab.research.google.com/github/ARt2406/June_test/blob/main/HomeWork_16_10_Task_03.ipynb\" target=\"_parent\"><img src=\"https://colab.research.google.com/assets/colab-badge.svg\" alt=\"Open In Colab\"/></a>"
      ]
    },
    {
      "cell_type": "code",
      "execution_count": 37,
      "metadata": {
        "colab": {
          "base_uri": "https://localhost:8080/"
        },
        "id": "1hAwEQDNgO9y",
        "outputId": "e68d2418-697d-4008-c0ba-269d82146168"
      },
      "outputs": [
        {
          "output_type": "stream",
          "name": "stdout",
          "text": [
            "Its ok\n",
            "Not Ok\n",
            "Not Ok\n"
          ]
        }
      ],
      "source": [
        "\n",
        "import re\n",
        "\n",
        "def prog(card_n):\n",
        "  pattern = r'^[a-zA-Z0-9][a-zA-Z0-9_]*(-?[a-zA-Z0-9_]+)*@[a-zA-Z0-9]+(\\.[a-zA-Z0-9]+)+$'\n",
        "\n",
        "  if re.match(pattern, card_n):\n",
        "    return  f'Its ok'\n",
        "  else:\n",
        "    return f'Not Ok'\n",
        "\n",
        "print(prog('aaa12@ukr.net'))\n",
        "print(prog('-aaa12@ukr.net'))\n",
        "print(prog('a--aa12@ukr.net'))"
      ]
    }
  ]
}
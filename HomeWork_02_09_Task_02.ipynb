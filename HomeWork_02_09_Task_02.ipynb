{
  "nbformat": 4,
  "nbformat_minor": 0,
  "metadata": {
    "colab": {
      "provenance": [],
      "name": "HomeWork_02.09_Task_02.ipynb",
      "authorship_tag": "ABX9TyM9S1Bd9xR4G+66kBvf3RcC",
      "include_colab_link": true
    },
    "kernelspec": {
      "name": "python3",
      "display_name": "Python 3"
    },
    "language_info": {
      "name": "python"
    }
  },
  "cells": [
    {
      "cell_type": "markdown",
      "metadata": {
        "id": "view-in-github",
        "colab_type": "text"
      },
      "source": [
        "<a href=\"https://colab.research.google.com/github/ARt2406/June_test/blob/main/HomeWork_02_09_Task_02.ipynb\" target=\"_parent\"><img src=\"https://colab.research.google.com/assets/colab-badge.svg\" alt=\"Open In Colab\"/></a>"
      ]
    },
    {
      "cell_type": "code",
      "execution_count": 12,
      "metadata": {
        "id": "h_o9--c8vIfM",
        "colab": {
          "base_uri": "https://localhost:8080/"
        },
        "outputId": "4ccebff6-6bdc-4887-cf8e-116865c0c4ae"
      },
      "outputs": [
        {
          "output_type": "stream",
          "name": "stdout",
          "text": [
            "4\n"
          ]
        }
      ],
      "source": [
        "def task2(file_name):\n",
        "  def decorator(func):\n",
        "    def wrapper(*args, **kwargs):\n",
        "      res = func(*args, **kwargs)\n",
        "\n",
        "      with open(file_name, 'a') as file:\n",
        "        file.write('Done')\n",
        "      return res\n",
        "    return wrapper\n",
        "  return decorator\n",
        "\n",
        "@task2('result.txt')\n",
        "def add(a,b):\n",
        "  return a + b\n",
        "\n",
        "print(add(2, 2))\n",
        "\n",
        "\n",
        "\n"
      ]
    }
  ]
}
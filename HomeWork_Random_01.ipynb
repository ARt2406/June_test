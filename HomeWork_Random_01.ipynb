{
  "nbformat": 4,
  "nbformat_minor": 0,
  "metadata": {
    "colab": {
      "provenance": [],
      "name": "HomeWork_Random_01.ipynb",
      "authorship_tag": "ABX9TyNCFyKcw19uwg6NJhFIH3ho",
      "include_colab_link": true
    },
    "kernelspec": {
      "name": "python3",
      "display_name": "Python 3"
    },
    "language_info": {
      "name": "python"
    }
  },
  "cells": [
    {
      "cell_type": "markdown",
      "metadata": {
        "id": "view-in-github",
        "colab_type": "text"
      },
      "source": [
        "<a href=\"https://colab.research.google.com/github/ARt2406/June_test/blob/main/HomeWork_Random_01.ipynb\" target=\"_parent\"><img src=\"https://colab.research.google.com/assets/colab-badge.svg\" alt=\"Open In Colab\"/></a>"
      ]
    },
    {
      "cell_type": "code",
      "execution_count": 26,
      "metadata": {
        "id": "h_o9--c8vIfM",
        "colab": {
          "base_uri": "https://localhost:8080/"
        },
        "outputId": "15f2071f-9e4a-43b5-c526-d94b2bb08ced"
      },
      "outputs": [
        {
          "output_type": "stream",
          "name": "stdout",
          "text": [
            "Overwriting my_package/products.py\n"
          ]
        }
      ],
      "source": [
        "\n",
        "#!mkdir my_package\n",
        "\n",
        "#%%writefile my_package/__init__.py\n",
        "\n",
        "#%%writefile my_package/products.py\n",
        "\n",
        "\n",
        "class InvalidPriceError(Exception):\n",
        "  def __init__(self, message='Price must more then zero'):\n",
        "    self.message = message\n",
        "    super().__init__(self.message)\n",
        "\n",
        "class InvalidQuantityError(Exception):\n",
        "  def __init__(self, message='InvalidQuantityError!!!!!!!'):\n",
        "    self.message = message\n",
        "    super().__init__(self.message)\n",
        "\n",
        "class LoggingMixin():\n",
        "  def log(self, message):\n",
        "    print(f'[LOG]: {message}')\n",
        "\n",
        "\n",
        "class Product(LoggingMixin):\n",
        "    def __init__(self, name, price, description):\n",
        "      if price <= 0:\n",
        "        self.log(f'Zero price')\n",
        "        raise InvalidPriceError\n",
        "      self.name = name\n",
        "      self.price = price\n",
        "      self.description = description\n",
        "      #self.log(f'Add new product')\n",
        "\n",
        "    def __str__(self):\n",
        "        return f'{self.name} - ${self.price} UAH'\n",
        "\n"
      ]
    },
    {
      "cell_type": "code",
      "source": [
        "a,b,c = int(input('enter a: ')), int(input('enter b: ')), int(input('enter c: '))\n",
        "\n",
        "if a == b == c:\n",
        "  print('равносторонний треугольник')\n",
        "\n",
        "elif a == b and a != c or a == c and a != b or b == c and b != a:\n",
        "  print('равнобедренный треугольник')\n",
        "\n",
        "else:\n",
        "  print('разносторонний')"
      ],
      "metadata": {
        "id": "Yz-WaQ60IECu",
        "colab": {
          "base_uri": "https://localhost:8080/"
        },
        "outputId": "2bdecf40-ec30-4b96-e7cf-9e25eba616cc"
      },
      "execution_count": 19,
      "outputs": [
        {
          "output_type": "stream",
          "name": "stdout",
          "text": [
            "enter a: 1\n",
            "enter b: 2\n",
            "enter c: 3\n",
            "разносторонний\n"
          ]
        }
      ]
    },
    {
      "cell_type": "code",
      "source": [],
      "metadata": {
        "colab": {
          "base_uri": "https://localhost:8080/"
        },
        "id": "6TuTzV4IK3Dz",
        "outputId": "f2f07bf8-9f84-4d06-d47f-fca9a5b8ed62"
      },
      "execution_count": 54,
      "outputs": [
        {
          "output_type": "stream",
          "name": "stdout",
          "text": [
            "Overwriting my_package/pay.py\n"
          ]
        }
      ]
    },
    {
      "cell_type": "code",
      "source": [],
      "metadata": {
        "colab": {
          "base_uri": "https://localhost:8080/",
          "height": 193
        },
        "id": "BbJyQPos2gvD",
        "outputId": "2e9ba3f3-644a-4889-dc42-06498f020f1d"
      },
      "execution_count": 2,
      "outputs": [
        {
          "name": "stdout",
          "output_type": "stream",
          "text": [
            "enter a: 1\n"
          ]
        },
        {
          "output_type": "error",
          "ename": "NameError",
          "evalue": "name 'vint' is not defined",
          "traceback": [
            "\u001b[0;31m---------------------------------------------------------------------------\u001b[0m",
            "\u001b[0;31mNameError\u001b[0m                                 Traceback (most recent call last)",
            "\u001b[0;32m<ipython-input-2-f946e0d9fcac>\u001b[0m in \u001b[0;36m<cell line: 1>\u001b[0;34m()\u001b[0m\n\u001b[0;32m----> 1\u001b[0;31m \u001b[0ma\u001b[0m\u001b[0;34m,\u001b[0m\u001b[0mb\u001b[0m \u001b[0;34m=\u001b[0m \u001b[0mint\u001b[0m\u001b[0;34m(\u001b[0m\u001b[0minput\u001b[0m\u001b[0;34m(\u001b[0m\u001b[0;34m'enter a: '\u001b[0m\u001b[0;34m)\u001b[0m\u001b[0;34m)\u001b[0m\u001b[0;34m,\u001b[0m\u001b[0mvint\u001b[0m\u001b[0;34m(\u001b[0m\u001b[0minput\u001b[0m\u001b[0;34m(\u001b[0m\u001b[0;34m'enter b: '\u001b[0m\u001b[0;34m)\u001b[0m\u001b[0;34m)\u001b[0m\u001b[0;34m\u001b[0m\u001b[0;34m\u001b[0m\u001b[0m\n\u001b[0m\u001b[1;32m      2\u001b[0m \u001b[0;34m\u001b[0m\u001b[0m\n\u001b[1;32m      3\u001b[0m \u001b[0mprint\u001b[0m\u001b[0;34m(\u001b[0m\u001b[0ma\u001b[0m \u001b[0;34m+\u001b[0m \u001b[0mb\u001b[0m\u001b[0;34m,\u001b[0m \u001b[0ma\u001b[0m \u001b[0;34m-\u001b[0m \u001b[0mb\u001b[0m\u001b[0;34m,\u001b[0m \u001b[0ma\u001b[0m \u001b[0;34m/\u001b[0m \u001b[0mb\u001b[0m\u001b[0;34m,\u001b[0m \u001b[0ma\u001b[0m \u001b[0;34m%\u001b[0m \u001b[0mb\u001b[0m\u001b[0;34m,\u001b[0m \u001b[0msep\u001b[0m\u001b[0;34m=\u001b[0m\u001b[0;34m'\\n'\u001b[0m\u001b[0;34m)\u001b[0m\u001b[0;34m\u001b[0m\u001b[0;34m\u001b[0m\u001b[0m\n",
            "\u001b[0;31mNameError\u001b[0m: name 'vint' is not defined"
          ]
        }
      ]
    }
  ]
}
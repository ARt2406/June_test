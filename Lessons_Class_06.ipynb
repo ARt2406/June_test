{
  "nbformat": 4,
  "nbformat_minor": 0,
  "metadata": {
    "colab": {
      "provenance": [],
      "name": "Lessons_Class_06.ipynb",
      "authorship_tag": "ABX9TyNSqfolQVsRf9lTsiUWVxzS",
      "include_colab_link": true
    },
    "kernelspec": {
      "name": "python3",
      "display_name": "Python 3"
    },
    "language_info": {
      "name": "python"
    }
  },
  "cells": [
    {
      "cell_type": "markdown",
      "metadata": {
        "id": "view-in-github",
        "colab_type": "text"
      },
      "source": [
        "<a href=\"https://colab.research.google.com/github/ARt2406/June_test/blob/main/Lessons_Class_06.ipynb\" target=\"_parent\"><img src=\"https://colab.research.google.com/assets/colab-badge.svg\" alt=\"Open In Colab\"/></a>"
      ]
    },
    {
      "cell_type": "code",
      "execution_count": 56,
      "metadata": {
        "colab": {
          "base_uri": "https://localhost:8080/"
        },
        "id": "h_o9--c8vIfM",
        "outputId": "f3ee76a9-5b9b-4e4b-c1c5-d7a72046246f"
      },
      "outputs": [
        {
          "output_type": "stream",
          "name": "stdout",
          "text": [
            "Woof! Woof!\n",
            "Buddy, 4\n",
            "28\n"
          ]
        }
      ],
      "source": [
        "class Dog():\n",
        "  def __init__(self, name, age):\n",
        "    self.name = name\n",
        "    self.age = age\n",
        "\n",
        "  def bark(self):\n",
        "    return print(f'Woof! Woof!')\n",
        "\n",
        "  def discription(self):\n",
        "    return f'{self.name}, {self.age}'\n",
        "\n",
        "  def human_ages(self):\n",
        "    return self.age * 7\n",
        "\n",
        "dog1 = Dog(\"Buddy\", 4)\n",
        "dog1.bark()\n",
        "print(dog1.discription())\n",
        "print(dog1.human_ages())"
      ]
    },
    {
      "cell_type": "code",
      "source": [],
      "metadata": {
        "id": "Yz-WaQ60IECu"
      },
      "execution_count": null,
      "outputs": []
    }
  ]
}
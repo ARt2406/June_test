{
  "nbformat": 4,
  "nbformat_minor": 0,
  "metadata": {
    "colab": {
      "provenance": [],
      "authorship_tag": "ABX9TyN5vsuJO7SvVHEYehOX3+p6",
      "include_colab_link": true
    },
    "kernelspec": {
      "name": "python3",
      "display_name": "Python 3"
    },
    "language_info": {
      "name": "python"
    }
  },
  "cells": [
    {
      "cell_type": "markdown",
      "metadata": {
        "id": "view-in-github",
        "colab_type": "text"
      },
      "source": [
        "<a href=\"https://colab.research.google.com/github/ARt2406/June_test/blob/main/HomeWork_16_10_Task_01.ipynb\" target=\"_parent\"><img src=\"https://colab.research.google.com/assets/colab-badge.svg\" alt=\"Open In Colab\"/></a>"
      ]
    },
    {
      "cell_type": "code",
      "execution_count": 16,
      "metadata": {
        "colab": {
          "base_uri": "https://localhost:8080/"
        },
        "id": "1hAwEQDNgO9y",
        "outputId": "62657be1-1ee9-4482-eaae-6c1242f32d7d"
      },
      "outputs": [
        {
          "output_type": "stream",
          "name": "stdout",
          "text": [
            "['Rbr']\n",
            "['rbr']\n"
          ]
        }
      ],
      "source": [
        "import re\n",
        "\n",
        "text = ['Rbr', 'rab', 'rbrta', 'bazar', 'arbitrage']\n",
        "pattern = r'[Rr]b+[r]'\n",
        "for i in text:\n",
        "  res = re.findall(pattern, i)\n",
        "  if res:\n",
        "    print(res)"
      ]
    }
  ]
}
{
  "nbformat": 4,
  "nbformat_minor": 0,
  "metadata": {
    "colab": {
      "provenance": [],
      "name": "Lessons_Modules_01",
      "authorship_tag": "ABX9TyNPJ/YwmG2a6EMeaZc+5q61",
      "include_colab_link": true
    },
    "kernelspec": {
      "name": "python3",
      "display_name": "Python 3"
    },
    "language_info": {
      "name": "python"
    }
  },
  "cells": [
    {
      "cell_type": "markdown",
      "metadata": {
        "id": "view-in-github",
        "colab_type": "text"
      },
      "source": [
        "<a href=\"https://colab.research.google.com/github/ARt2406/June_test/blob/main/Lessons_Modules_01.ipynb\" target=\"_parent\"><img src=\"https://colab.research.google.com/assets/colab-badge.svg\" alt=\"Open In Colab\"/></a>"
      ]
    },
    {
      "cell_type": "code",
      "execution_count": 2,
      "metadata": {
        "colab": {
          "base_uri": "https://localhost:8080/"
        },
        "id": "h_o9--c8vIfM",
        "outputId": "d40881db-6e53-497f-8f58-9f0032fc8b24"
      },
      "outputs": [
        {
          "output_type": "stream",
          "name": "stdout",
          "text": [
            "Writing math_operations.py\n"
          ]
        }
      ],
      "source": [
        "%%writefile math_operations.py\n",
        "\n",
        "def add(a,b):\n",
        "  return a + b\n",
        "\n",
        "def substract(a,b):\n",
        "  return a - b\n",
        "\n",
        "def mutiply(a,b):\n",
        "  return a * b\n",
        "\n",
        "def divide(a,b):\n",
        "  if b != 0:\n",
        "    return a / b\n",
        "  else:\n",
        "    print(f' Division by zero, asshole')\n"
      ]
    },
    {
      "cell_type": "code",
      "source": [
        "import math_operations\n",
        "\n",
        "\n",
        "\n",
        "print('addiction', math_operations.add(8, 2))\n",
        "print('addiction', math_operations.divide(8, 2))"
      ],
      "metadata": {
        "colab": {
          "base_uri": "https://localhost:8080/"
        },
        "id": "Yz-WaQ60IECu",
        "outputId": "d95232b3-de08-49d0-e6cd-4a37e65d5703"
      },
      "execution_count": 9,
      "outputs": [
        {
          "output_type": "stream",
          "name": "stdout",
          "text": [
            "addiction 10\n",
            "addiction 4.0\n"
          ]
        }
      ]
    }
  ]
}
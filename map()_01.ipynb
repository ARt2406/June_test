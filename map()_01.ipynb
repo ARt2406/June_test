{
  "nbformat": 4,
  "nbformat_minor": 0,
  "metadata": {
    "colab": {
      "provenance": [],
      "name": "map()_01.ipynb",
      "authorship_tag": "ABX9TyP1MCy0EpqQGi8slDc2MEhB",
      "include_colab_link": true
    },
    "kernelspec": {
      "name": "python3",
      "display_name": "Python 3"
    },
    "language_info": {
      "name": "python"
    }
  },
  "cells": [
    {
      "cell_type": "markdown",
      "metadata": {
        "id": "view-in-github",
        "colab_type": "text"
      },
      "source": [
        "<a href=\"https://colab.research.google.com/github/ARt2406/June_test/blob/main/map()_01.ipynb\" target=\"_parent\"><img src=\"https://colab.research.google.com/assets/colab-badge.svg\" alt=\"Open In Colab\"/></a>"
      ]
    },
    {
      "cell_type": "code",
      "execution_count": 21,
      "metadata": {
        "id": "h_o9--c8vIfM",
        "colab": {
          "base_uri": "https://localhost:8080/"
        },
        "outputId": "e5307c5e-d696-4e07-bf2d-65ae41cca88a"
      },
      "outputs": [
        {
          "output_type": "stream",
          "name": "stdout",
          "text": [
            "[20, 40, 60, 80, 100]\n"
          ]
        }
      ],
      "source": [
        "number_strings = [\"10\", \"20\", \"30\", \"40\", \"50\"]\n",
        "\n",
        "x = map(int, number_strings)\n",
        "\n",
        "x2 = [i * 2 for i in x]\n",
        "\n",
        "print(x2)"
      ]
    }
  ]
}
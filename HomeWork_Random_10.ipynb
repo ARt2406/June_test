{
  "nbformat": 4,
  "nbformat_minor": 0,
  "metadata": {
    "colab": {
      "provenance": [],
      "name": "HomeWork_Random_10.ipynb",
      "authorship_tag": "ABX9TyO47Yu4aG+nLMGC9P0jTMkR",
      "include_colab_link": true
    },
    "kernelspec": {
      "name": "python3",
      "display_name": "Python 3"
    },
    "language_info": {
      "name": "python"
    }
  },
  "cells": [
    {
      "cell_type": "markdown",
      "metadata": {
        "id": "view-in-github",
        "colab_type": "text"
      },
      "source": [
        "<a href=\"https://colab.research.google.com/github/ARt2406/June_test/blob/main/HomeWork_Random_10.ipynb\" target=\"_parent\"><img src=\"https://colab.research.google.com/assets/colab-badge.svg\" alt=\"Open In Colab\"/></a>"
      ]
    },
    {
      "cell_type": "code",
      "execution_count": 77,
      "metadata": {
        "id": "h_o9--c8vIfM",
        "colab": {
          "base_uri": "https://localhost:8080/"
        },
        "outputId": "9a3b5ed5-0156-4056-bdee-489a21f2d872"
      },
      "outputs": [
        {
          "output_type": "stream",
          "name": "stdout",
          "text": [
            "[5, 1, 3]\n",
            "3.0\n",
            "[5, 1, 3]\n"
          ]
        }
      ],
      "source": [
        "class Student:\n",
        "\n",
        "  def __init__(self, name) -> None:\n",
        "    self.name = name\n",
        "    self.grades = []\n",
        "\n",
        "  def add_grade(self, grade):\n",
        "    self.grades.append(grade)\n",
        "    return self.grades\n",
        "\n",
        "  def average_grade(self):\n",
        "    return sum(self.grades) / len(self.grades)\n",
        "\n",
        "  def get_grades(self):\n",
        "    return  self.grades\n",
        "\n",
        "account = Student(\"Alice\")\n",
        "\n",
        "account.add_grade(5)\n",
        "account.add_grade(1)\n",
        "account.add_grade(3)\n",
        "\n",
        "print(account.get_grades())\n",
        "print(account.average_grade())\n",
        "print(account.get_grades())\n",
        "\n",
        "\n",
        "\n",
        "\n"
      ]
    }
  ]
}
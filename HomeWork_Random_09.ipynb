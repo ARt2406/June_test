{
  "nbformat": 4,
  "nbformat_minor": 0,
  "metadata": {
    "colab": {
      "provenance": [],
      "name": "HomeWork_Random_09.ipynb",
      "authorship_tag": "ABX9TyOGEOFC0OZ7osd/SQ1Q5hH1",
      "include_colab_link": true
    },
    "kernelspec": {
      "name": "python3",
      "display_name": "Python 3"
    },
    "language_info": {
      "name": "python"
    }
  },
  "cells": [
    {
      "cell_type": "markdown",
      "metadata": {
        "id": "view-in-github",
        "colab_type": "text"
      },
      "source": [
        "<a href=\"https://colab.research.google.com/github/ARt2406/June_test/blob/main/HomeWork_Random_09.ipynb\" target=\"_parent\"><img src=\"https://colab.research.google.com/assets/colab-badge.svg\" alt=\"Open In Colab\"/></a>"
      ]
    },
    {
      "cell_type": "code",
      "execution_count": 58,
      "metadata": {
        "id": "h_o9--c8vIfM",
        "colab": {
          "base_uri": "https://localhost:8080/"
        },
        "outputId": "84ba8cbd-0c2b-4fa9-a660-02e5fb2b102a"
      },
      "outputs": [
        {
          "output_type": "stream",
          "name": "stdout",
          "text": [
            "1500\n",
            "No more money\n",
            "MOney on your BankAccount: 1500\n"
          ]
        }
      ],
      "source": [
        "class BankAccount:\n",
        "\n",
        "  def __init__(self, owner, balance) -> None:\n",
        "    self.owner = owner\n",
        "    self.balance = balance\n",
        "\n",
        "  def deposit(self, amount):\n",
        "    self.balance += amount\n",
        "    return self.balance\n",
        "\n",
        "  def withdraw(self, amount):\n",
        "\n",
        "    if amount > self.balance:\n",
        "      print('No more money')\n",
        "\n",
        "    else:\n",
        "      self.balance -= amount\n",
        "      return self.balance\n",
        "\n",
        "  def get_balance(self):\n",
        "    return f'MOney on your BankAccount: {self.balance}'\n",
        "\n",
        "account = BankAccount(\"Alice\", 1000)\n",
        "\n",
        "account.deposit(500)\n",
        "\n",
        "print(account.balance)\n",
        "\n",
        "account.withdraw(11500)\n",
        "\n",
        "print(account.get_balance())\n",
        "\n",
        "\n"
      ]
    }
  ]
}
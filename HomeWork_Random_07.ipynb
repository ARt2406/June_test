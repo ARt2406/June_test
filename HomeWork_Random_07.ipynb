{
  "nbformat": 4,
  "nbformat_minor": 0,
  "metadata": {
    "colab": {
      "provenance": [],
      "name": "HomeWork_Random_07.ipynb",
      "authorship_tag": "ABX9TyPgnYizTcErp1axDG5pDW3C",
      "include_colab_link": true
    },
    "kernelspec": {
      "name": "python3",
      "display_name": "Python 3"
    },
    "language_info": {
      "name": "python"
    }
  },
  "cells": [
    {
      "cell_type": "markdown",
      "metadata": {
        "id": "view-in-github",
        "colab_type": "text"
      },
      "source": [
        "<a href=\"https://colab.research.google.com/github/ARt2406/June_test/blob/main/HomeWork_Random_07.ipynb\" target=\"_parent\"><img src=\"https://colab.research.google.com/assets/colab-badge.svg\" alt=\"Open In Colab\"/></a>"
      ]
    },
    {
      "cell_type": "code",
      "execution_count": 60,
      "metadata": {
        "id": "h_o9--c8vIfM",
        "colab": {
          "base_uri": "https://localhost:8080/"
        },
        "outputId": "9f26a48e-9954-4996-dafa-e0c81a5e4010"
      },
      "outputs": [
        {
          "output_type": "stream",
          "name": "stdout",
          "text": [
            "Книги автора Джордж Оруэлл:\n",
            "Скотный двор by Джордж Оруэлл 1945\n",
            "Гарри Поттер и философский камень by Дж. К. Роулинг 1997\n",
            "Преступление и наказание by Фёдор Достоевский 1866\n",
            "Мастер и Маргарита by Михаил Булгаков 1967\n",
            "Скотный двор by Джордж Оруэлл 1945\n"
          ]
        }
      ],
      "source": [
        "class Library:\n",
        "\n",
        "  def __init__(self) -> None:\n",
        "    self.books = []\n",
        "\n",
        "  def add_book(self, book):\n",
        "    return self.books.append(book)\n",
        "\n",
        "  def remove_book(self, book):\n",
        "    return self.books.remove(book)\n",
        "\n",
        "  def find_books_by_author(self,author):\n",
        "    found_books = [book for book in self.books if book.author.lower() == author.lower()]\n",
        "    if found_books:\n",
        "      print(f'Книги автора {author}:')\n",
        "      for book in found_books:\n",
        "        print(book)\n",
        "\n",
        "  def list_books(self):\n",
        "    if self.books:\n",
        "      for book in self.books:\n",
        "        print(book)\n",
        "\n",
        "class Book:\n",
        "  def __init__(self, title, author, year) -> None:\n",
        "    self.title = title\n",
        "    self.author = author\n",
        "    self.year = year\n",
        "\n",
        "  def __str__(self) -> str:\n",
        "    return f'{self.title} by {self.author} {self.year}'\n",
        "\n",
        "\n",
        "\n",
        "\n",
        "library = Library()\n",
        "\n",
        "book1 = Book(\"1984\", \"Джордж Оруэлл\", 1949)\n",
        "book2 = Book(\"Гарри Поттер и философский камень\", \"Дж. К. Роулинг\", 1997)\n",
        "book3 = Book(\"Преступление и наказание\", \"Фёдор Достоевский\", 1866)\n",
        "book4 = Book(\"Мастер и Маргарита\", \"Михаил Булгаков\", 1967)\n",
        "book5 = Book(\"Скотный двор\", \"Джордж Оруэлл\", 1945)\n",
        "\n",
        "library.add_book(book1)\n",
        "library.add_book(book2)\n",
        "library.add_book(book3)\n",
        "library.add_book(book4)\n",
        "library.add_book(book5)\n",
        "\n",
        "library.remove_book(book1)\n",
        "\n",
        "library.find_books_by_author('Джордж Оруэлл')\n",
        "\n",
        "library.list_books()"
      ]
    }
  ]
}
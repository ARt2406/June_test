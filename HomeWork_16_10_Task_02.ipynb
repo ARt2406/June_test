{
  "nbformat": 4,
  "nbformat_minor": 0,
  "metadata": {
    "colab": {
      "provenance": [],
      "authorship_tag": "ABX9TyP6HFPKOTBf7NMlfezCMp7i",
      "include_colab_link": true
    },
    "kernelspec": {
      "name": "python3",
      "display_name": "Python 3"
    },
    "language_info": {
      "name": "python"
    }
  },
  "cells": [
    {
      "cell_type": "markdown",
      "metadata": {
        "id": "view-in-github",
        "colab_type": "text"
      },
      "source": [
        "<a href=\"https://colab.research.google.com/github/ARt2406/June_test/blob/main/HomeWork_16_10_Task_02.ipynb\" target=\"_parent\"><img src=\"https://colab.research.google.com/assets/colab-badge.svg\" alt=\"Open In Colab\"/></a>"
      ]
    },
    {
      "cell_type": "code",
      "execution_count": 30,
      "metadata": {
        "colab": {
          "base_uri": "https://localhost:8080/"
        },
        "id": "1hAwEQDNgO9y",
        "outputId": "0ad20427-fda7-4efc-ba59-cc1e20831acb"
      },
      "outputs": [
        {
          "output_type": "stream",
          "name": "stdout",
          "text": [
            "Its ok\n"
          ]
        }
      ],
      "source": [
        "\n",
        "import re\n",
        "\n",
        "def prog(card_n):\n",
        "  pattern = r'^(9999-){3}9999$'\n",
        "\n",
        "  if re.match(pattern, card_n):\n",
        "    return  f'Its ok'\n",
        "  else:\n",
        "    return f'Not Ok'\n",
        "\n",
        "print(prog('9999-9999-9999-9999'))\n"
      ]
    }
  ]
}
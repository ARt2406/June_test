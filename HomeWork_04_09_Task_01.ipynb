{
  "nbformat": 4,
  "nbformat_minor": 0,
  "metadata": {
    "colab": {
      "provenance": [],
      "name": "HomeWork_04.09_Task_01.ipynb",
      "authorship_tag": "ABX9TyNYzVZk94or0jz0xdJZYRDK",
      "include_colab_link": true
    },
    "kernelspec": {
      "name": "python3",
      "display_name": "Python 3"
    },
    "language_info": {
      "name": "python"
    }
  },
  "cells": [
    {
      "cell_type": "markdown",
      "metadata": {
        "id": "view-in-github",
        "colab_type": "text"
      },
      "source": [
        "<a href=\"https://colab.research.google.com/github/ARt2406/June_test/blob/main/HomeWork_04_09_Task_01.ipynb\" target=\"_parent\"><img src=\"https://colab.research.google.com/assets/colab-badge.svg\" alt=\"Open In Colab\"/></a>"
      ]
    },
    {
      "cell_type": "code",
      "execution_count": 27,
      "metadata": {
        "id": "h_o9--c8vIfM",
        "colab": {
          "base_uri": "https://localhost:8080/"
        },
        "outputId": "6391ea95-a41c-429c-a108-a8ec6907bf3b"
      },
      "outputs": [
        {
          "output_type": "stream",
          "name": "stdout",
          "text": [
            "100\n",
            " Attribute credit not exist\n",
            "error Balance not change\n",
            "credit\n"
          ]
        }
      ],
      "source": [
        "class Product:\n",
        "\n",
        "  def __setattr__(self, name: str, value) -> None:\n",
        "\n",
        "    if name == 'balance':\n",
        "      raise AttributeError('Balance not change')\n",
        "    else:\n",
        "      super().__setattr__(name, value)\n",
        "\n",
        "  def __getattr__(self, name: str):\n",
        "    print(f' Attribute {name} not exist')\n",
        "\n",
        "  def __init__(self) -> None:\n",
        "    self._balance = 100\n",
        "\n",
        "  @property\n",
        "  def balance(self):\n",
        "    return self._balance\n",
        "\n",
        "x = product()\n",
        "\n",
        "print(x.balance)\n",
        "\n",
        "x.credit\n",
        "try:\n",
        "  x.balance = 200\n",
        "except AttributeError as e:\n",
        "  print(f'error {e}')\n",
        "x.name = 'credit'\n",
        "\n",
        "print(x.name)"
      ]
    }
  ]
}
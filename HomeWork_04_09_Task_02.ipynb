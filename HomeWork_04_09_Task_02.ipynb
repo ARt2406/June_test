{
  "nbformat": 4,
  "nbformat_minor": 0,
  "metadata": {
    "colab": {
      "provenance": [],
      "name": "HomeWork_04.09_Task_02.ipynb",
      "authorship_tag": "ABX9TyMv3kCW/rTBl0rfy3BBxOBE",
      "include_colab_link": true
    },
    "kernelspec": {
      "name": "python3",
      "display_name": "Python 3"
    },
    "language_info": {
      "name": "python"
    }
  },
  "cells": [
    {
      "cell_type": "markdown",
      "metadata": {
        "id": "view-in-github",
        "colab_type": "text"
      },
      "source": [
        "<a href=\"https://colab.research.google.com/github/ARt2406/June_test/blob/main/HomeWork_04_09_Task_02.ipynb\" target=\"_parent\"><img src=\"https://colab.research.google.com/assets/colab-badge.svg\" alt=\"Open In Colab\"/></a>"
      ]
    },
    {
      "cell_type": "code",
      "execution_count": 42,
      "metadata": {
        "id": "h_o9--c8vIfM",
        "colab": {
          "base_uri": "https://localhost:8080/"
        },
        "outputId": "500419c3-6ed9-40d9-d513-943dc0218c03"
      },
      "outputs": [
        {
          "output_type": "stream",
          "name": "stdout",
          "text": [
            "Picachu Nikita\n",
            "f_name not change\n",
            " Attribute age not exist\n",
            "Picachu\n",
            "Nikita\n"
          ]
        }
      ],
      "source": [
        "class User:\n",
        "\n",
        "  def __init__(self, f_name, l_name) -> None:\n",
        "    self._f_name = f_name\n",
        "    self._l_name = l_name\n",
        "\n",
        "  def __setattr__(self, name: str, value) -> None:\n",
        "    if name in ('f_name', 'l_name'):\n",
        "      raise AttributeError(f'{name} not change')\n",
        "    else:\n",
        "      super().__setattr__(name, value)\n",
        "\n",
        "  def __getattr__(self, name: str):\n",
        "    return(f' Attribute {name} not exist')\n",
        "\n",
        "\n",
        "  @property\n",
        "  def f_name(self):\n",
        "    return self._f_name\n",
        "\n",
        "  @property\n",
        "  def l_name(self):\n",
        "    return self._l_name\n",
        "\n",
        "  @property\n",
        "  def person(self):\n",
        "    return f'{self._f_name} {self._l_name}'\n",
        "\n",
        "x = User(\"Picachu\", \"Nikita\")\n",
        "\n",
        "print(x.person)\n",
        "\n",
        "try:\n",
        "  x.f_name = 'Yudjin'\n",
        "except AttributeError as e:\n",
        "  print(e)\n",
        "\n",
        "print(x.age)\n",
        "\n",
        "print(x.f_name)\n",
        "print(x.l_name)\n",
        "\n",
        "\n"
      ]
    },
    {
      "cell_type": "code",
      "source": [],
      "metadata": {
        "id": "8hO3hGG31NAb"
      },
      "execution_count": null,
      "outputs": []
    }
  ]
}
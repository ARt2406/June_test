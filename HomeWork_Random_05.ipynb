{
  "nbformat": 4,
  "nbformat_minor": 0,
  "metadata": {
    "colab": {
      "provenance": [],
      "name": "HomeWork_Random_05.ipynb",
      "authorship_tag": "ABX9TyOObf9YP3/jFjt10gh0XCqx",
      "include_colab_link": true
    },
    "kernelspec": {
      "name": "python3",
      "display_name": "Python 3"
    },
    "language_info": {
      "name": "python"
    }
  },
  "cells": [
    {
      "cell_type": "markdown",
      "metadata": {
        "id": "view-in-github",
        "colab_type": "text"
      },
      "source": [
        "<a href=\"https://colab.research.google.com/github/ARt2406/June_test/blob/main/HomeWork_Random_05.ipynb\" target=\"_parent\"><img src=\"https://colab.research.google.com/assets/colab-badge.svg\" alt=\"Open In Colab\"/></a>"
      ]
    },
    {
      "cell_type": "code",
      "execution_count": 14,
      "metadata": {
        "id": "h_o9--c8vIfM",
        "colab": {
          "base_uri": "https://localhost:8080/"
        },
        "outputId": "f422d71c-6237-412c-f402-c64e797427d4"
      },
      "outputs": [
        {
          "output_type": "stream",
          "name": "stdout",
          "text": [
            "Enter text: Text In Text!!!\n",
            "text in text\n",
            "text, 2\n",
            "in, 1\n",
            "text, 2\n",
            "in, 1\n"
          ]
        }
      ],
      "source": [
        "from ast import Lambda\n",
        "import string\n",
        "\n",
        "def rem_punkt(text):\n",
        "  return text.translate(str.maketrans('', '', string.punctuation))\n",
        "\n",
        "def count_w(text):\n",
        "  word_frequency = {}\n",
        "  words = text.split()\n",
        "\n",
        "  for word in words:\n",
        "    word = word.lower()\n",
        "    if word in word_frequency:\n",
        "      word_frequency[word] += 1\n",
        "    else:\n",
        "      word_frequency[word] = 1\n",
        "\n",
        "  return word_frequency\n",
        "\n",
        "def get_words(frequency_dict, n=5):\n",
        "  sorted_words = sorted(frequency_dict.items(), key=lambda x: x[1], reverse=True )\n",
        "  return sorted_words[:n]\n",
        "\n",
        "text = input('Enter text: ')\n",
        "\n",
        "text_cleaned = rem_punkt(text)\n",
        "frequency = count_w(text_cleaned)\n",
        "top_words = get_words(frequency, 5)\n",
        "\n",
        "print(text_cleaned.lower())\n",
        "for word, count in frequency.items():\n",
        "  print(f'{word}, {count}')\n",
        "\n",
        "for word, count in top_words:\n",
        "  print(f'{word}, {count}')\n",
        "\n",
        "\n",
        "\n",
        "\n",
        "\n"
      ]
    }
  ]
}
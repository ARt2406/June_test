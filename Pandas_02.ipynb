{
  "nbformat": 4,
  "nbformat_minor": 0,
  "metadata": {
    "colab": {
      "provenance": [],
      "authorship_tag": "ABX9TyNlzld9SJPqfkClDtLvvhBC",
      "include_colab_link": true
    },
    "kernelspec": {
      "name": "python3",
      "display_name": "Python 3"
    },
    "language_info": {
      "name": "python"
    }
  },
  "cells": [
    {
      "cell_type": "markdown",
      "metadata": {
        "id": "view-in-github",
        "colab_type": "text"
      },
      "source": [
        "<a href=\"https://colab.research.google.com/github/ARt2406/June_test/blob/main/Pandas_02.ipynb\" target=\"_parent\"><img src=\"https://colab.research.google.com/assets/colab-badge.svg\" alt=\"Open In Colab\"/></a>"
      ]
    },
    {
      "cell_type": "code",
      "execution_count": 4,
      "metadata": {
        "colab": {
          "base_uri": "https://localhost:8080/"
        },
        "id": "1hAwEQDNgO9y",
        "outputId": "2f900376-6a46-4545-bcae-cd8b1bfc8c3d"
      },
      "outputs": [
        {
          "output_type": "stream",
          "name": "stdout",
          "text": [
            "     Product  Price  Quantity\n",
            "0     Apples    2.5       100\n",
            "1    Bananas    1.2       150\n",
            "2   Cherries    3.0       200\n",
            "3      Dates    5.0        50\n",
            "4  Eggplants    2.8        80\n",
            "     Product  Price  Quantity  Total\n",
            "0     Apples    2.5       100  250.0\n",
            "1    Bananas    1.2       150  180.0\n",
            "2   Cherries    3.0       200  600.0\n",
            "3      Dates    5.0        50  250.0\n",
            "4  Eggplants    2.8        80  224.0\n",
            "    Product  Price  Quantity  Total\n",
            "2  Cherries    3.0       200  600.0\n",
            "    Product  Price  Quantity  Total\n",
            "1   Bananas    1.2       150  180.0\n",
            "2  Cherries    3.0       200  600.0\n",
            "1504.0\n"
          ]
        }
      ],
      "source": [
        "import pandas as pd\n",
        "\n",
        "data = {\n",
        "    'Product': ['Apples', 'Bananas', 'Cherries', 'Dates', 'Eggplants'],\n",
        "    'Price': [2.5, 1.2, 3.0, 5.0, 2.8],\n",
        "    'Quantity': [100, 150, 200, 50, 80]\n",
        "}\n",
        "\n",
        "df = pd.DataFrame(data)\n",
        "print(df)\n",
        "\n",
        "df['Total'] = df['Quantity'] * df['Price']\n",
        "print(df)\n",
        "\n",
        "total_max = df[df['Total'] == df['Total'].max()]\n",
        "print(total_max)\n",
        "\n",
        "more_100 = df[df['Quantity'] > 100]\n",
        "print(more_100)\n",
        "\n",
        "total_sum = df['Total'].sum()\n",
        "print(total_sum)"
      ]
    }
  ]
}
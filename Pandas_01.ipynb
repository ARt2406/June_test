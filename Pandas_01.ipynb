{
  "nbformat": 4,
  "nbformat_minor": 0,
  "metadata": {
    "colab": {
      "provenance": [],
      "authorship_tag": "ABX9TyOV9IhEkuYMMt4J8IoOi2Ia",
      "include_colab_link": true
    },
    "kernelspec": {
      "name": "python3",
      "display_name": "Python 3"
    },
    "language_info": {
      "name": "python"
    }
  },
  "cells": [
    {
      "cell_type": "markdown",
      "metadata": {
        "id": "view-in-github",
        "colab_type": "text"
      },
      "source": [
        "<a href=\"https://colab.research.google.com/github/ARt2406/June_test/blob/main/Pandas_01.ipynb\" target=\"_parent\"><img src=\"https://colab.research.google.com/assets/colab-badge.svg\" alt=\"Open In Colab\"/></a>"
      ]
    },
    {
      "cell_type": "code",
      "execution_count": 3,
      "metadata": {
        "colab": {
          "base_uri": "https://localhost:8080/"
        },
        "id": "1hAwEQDNgO9y",
        "outputId": "94669995-e632-4453-a5e6-a8ab128f54ea"
      },
      "outputs": [
        {
          "output_type": "stream",
          "name": "stdout",
          "text": [
            "      Name  Age Department  Salary\n",
            "0    Alice   25         HR   50000\n",
            "1      Bob   45    Finance   80000\n",
            "2  Charlie   35         IT   60000\n",
            "3    David   40         IT   70000\n",
            "4      Eva   28         HR   55000\n",
            "      Name  Age Department  Salary\n",
            "2  Charlie   35         IT   60000\n",
            "3    David   40         IT   70000\n",
            "  Name  Age Department  Salary\n",
            "1  Bob   45    Finance   80000\n",
            "Department\n",
            "Finance    80000.0\n",
            "HR         52500.0\n",
            "IT         65000.0\n",
            "Name: Salary, dtype: float64\n"
          ]
        }
      ],
      "source": [
        "import pandas as pd\n",
        "\n",
        "data = {\n",
        "    'Name': ['Alice', 'Bob', 'Charlie', 'David', 'Eva'],\n",
        "    'Age': [25, 45, 35, 40, 28],\n",
        "    'Department': ['HR', 'Finance', 'IT', 'IT', 'HR'],\n",
        "    'Salary': [50000, 80000, 60000, 70000, 55000]\n",
        "}\n",
        "\n",
        "df = pd.DataFrame(data)\n",
        "print(df)\n",
        "\n",
        "it_sector = df[df['Department'] == 'IT']\n",
        "print(it_sector)\n",
        "\n",
        "max_salary = df[df['Salary'] == df['Salary'].max()]\n",
        "print(max_salary)\n",
        "\n",
        "avf_salary = df.groupby('Department')['Salary'].mean()\n",
        "print(avf_salary)"
      ]
    }
  ]
}
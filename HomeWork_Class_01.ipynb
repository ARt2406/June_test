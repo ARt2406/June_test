{
  "nbformat": 4,
  "nbformat_minor": 0,
  "metadata": {
    "colab": {
      "provenance": [],
      "name": "HomeWork_Class_01.ipynb",
      "authorship_tag": "ABX9TyN2Q4rOMvvuqdwnZHSVaw7T",
      "include_colab_link": true
    },
    "kernelspec": {
      "name": "python3",
      "display_name": "Python 3"
    },
    "language_info": {
      "name": "python"
    }
  },
  "cells": [
    {
      "cell_type": "markdown",
      "metadata": {
        "id": "view-in-github",
        "colab_type": "text"
      },
      "source": [
        "<a href=\"https://colab.research.google.com/github/ARt2406/June_test/blob/main/HomeWork_Class_01.ipynb\" target=\"_parent\"><img src=\"https://colab.research.google.com/assets/colab-badge.svg\" alt=\"Open In Colab\"/></a>"
      ]
    },
    {
      "cell_type": "code",
      "execution_count": 29,
      "metadata": {
        "colab": {
          "base_uri": "https://localhost:8080/"
        },
        "id": "h_o9--c8vIfM",
        "outputId": "0511ae17-69ec-49e1-ea5d-ba2147b790a5"
      },
      "outputs": [
        {
          "output_type": "stream",
          "name": "stdout",
          "text": [
            "Bread: 10.00 UAH x 1 = 10 UAH\n",
            "Milk: 20.00 UAH x 1 = 20 UAH\n",
            "Butter: 30.00 UAH x 1 = 30 UAH\n",
            "Total: 60 UAH\n",
            "payment 60, pay by BankTransfer\n"
          ]
        }
      ],
      "source": [
        "from posixpath import defpath\n",
        "class Product:\n",
        "    \"\"\"\n",
        "    Class for product representation.\n",
        "    \"\"\"\n",
        "\n",
        "    def __init__(self, name: str, price: int | float, currency='UAH'):\n",
        "        self.name = name\n",
        "        self.price = price\n",
        "        self.currency = currency\n",
        "\n",
        "    def __str__(self):\n",
        "        return f'{self.name}: {self.price:.2f} {self.currency}'\n",
        "\n",
        "\n",
        "class Cart:\n",
        "    \"\"\"\n",
        "    Class for cart representation.\n",
        "    \"\"\"\n",
        "\n",
        "    def __init__(self):\n",
        "        self.__products = {}\n",
        "\n",
        "    def add_product(self, product: Product, quantity: int | float = 1):\n",
        "        self.__products[product] = self.__products.get(product, 0) + quantity\n",
        "\n",
        "    def total(self):\n",
        "        return sum(product.price * quantity for product, quantity in self.__products.items())\n",
        "\n",
        "    def __str__(self):\n",
        "        return '\\n'.join([f'{product} x {quantity} = {product.price * quantity} {product.currency}'\n",
        "                          for product, quantity in self.__products.items()])\n",
        "\n",
        "class PaymentProcessor:\n",
        "  def pay(self, amount):\n",
        "    raise NotImplementedError\n",
        "\n",
        "class CreditCardProcessor(PaymentProcessor):\n",
        "\n",
        "  def __init__(self, cart_num) -> None:\n",
        "      self.cart_num = cart_num\n",
        "\n",
        "  def pay(self, amount):\n",
        "     print(f'payment {amount}, pay by CreditCard')\n",
        "\n",
        "class PayPalProcessor(PaymentProcessor):\n",
        "\n",
        "  def __init__(self, email):\n",
        "    self.email = email\n",
        "\n",
        "  def pay(self, amount):\n",
        "    self.email = email\n",
        "    print(f'payment {amount}, pay by PayPal')\n",
        "\n",
        "class BankTransferProcessor(PaymentProcessor):\n",
        "\n",
        "  def __init__(self, bank_ID) -> None:\n",
        "     self.bank_ID = bank_ID\n",
        "\n",
        "  def pay(self, amount):\n",
        "    print(f'payment {amount}, pay by BankTransfer')\n",
        "\n",
        "\n",
        "\n",
        "\n",
        "if __name__ == '__main__':\n",
        "    cart = Cart()\n",
        "    cart.add_product(Product('Bread', 10))\n",
        "    cart.add_product(Product('Milk', 20))\n",
        "    cart.add_product(Product('Butter', 30))\n",
        "    print(cart)\n",
        "    print(f'Total: {cart.total()} UAH')\n",
        "\n",
        "    credit_cart = BankTransferProcessor('1345135435473544')\n",
        "    credit_cart.pay(cart.total())\n",
        "\n"
      ]
    },
    {
      "cell_type": "code",
      "source": [],
      "metadata": {
        "id": "Yz-WaQ60IECu"
      },
      "execution_count": null,
      "outputs": []
    }
  ]
}
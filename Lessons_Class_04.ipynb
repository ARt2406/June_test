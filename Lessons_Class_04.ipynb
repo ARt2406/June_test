{
  "nbformat": 4,
  "nbformat_minor": 0,
  "metadata": {
    "colab": {
      "provenance": [],
      "name": "Lessons_Class_04.ipynb",
      "authorship_tag": "ABX9TyO93Xsjhl8oJJmjbHuAK/cy",
      "include_colab_link": true
    },
    "kernelspec": {
      "name": "python3",
      "display_name": "Python 3"
    },
    "language_info": {
      "name": "python"
    }
  },
  "cells": [
    {
      "cell_type": "markdown",
      "metadata": {
        "id": "view-in-github",
        "colab_type": "text"
      },
      "source": [
        "<a href=\"https://colab.research.google.com/github/ARt2406/June_test/blob/main/Lessons_Class_04.ipynb\" target=\"_parent\"><img src=\"https://colab.research.google.com/assets/colab-badge.svg\" alt=\"Open In Colab\"/></a>"
      ]
    },
    {
      "cell_type": "code",
      "execution_count": 9,
      "metadata": {
        "colab": {
          "base_uri": "https://localhost:8080/"
        },
        "id": "h_o9--c8vIfM",
        "outputId": "396ecaa7-5119-4b6d-c2d3-a254c80be81e"
      },
      "outputs": [
        {
          "output_type": "stream",
          "name": "stdout",
          "text": [
            "78.54\n",
            "31.42\n",
            "10\n"
          ]
        }
      ],
      "source": [
        "import math\n",
        "\n",
        "class Circle:\n",
        "  def __init__(self, radius) -> None:\n",
        "    self.radius = radius\n",
        "\n",
        "  def area(self):\n",
        "    return math.pi * (self.radius ** 2)\n",
        "\n",
        "  def circumference(self):\n",
        "    return 2 * math.pi * self.radius\n",
        "\n",
        "  def diameter(self):\n",
        "    return 2 * self.radius\n",
        "\n",
        "radius = Circle(5)\n",
        "\n",
        "print(f'{radius.area():.2f}')\n",
        "print(f'{radius.circumference():.2f}')\n",
        "print(radius.diameter())"
      ]
    }
  ]
}
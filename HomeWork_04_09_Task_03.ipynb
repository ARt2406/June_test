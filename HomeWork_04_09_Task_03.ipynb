{
  "nbformat": 4,
  "nbformat_minor": 0,
  "metadata": {
    "colab": {
      "provenance": [],
      "name": "HomeWork_04.09_Task_03.ipynb",
      "authorship_tag": "ABX9TyNSt/X7jsLnGigI3qJZYELS",
      "include_colab_link": true
    },
    "kernelspec": {
      "name": "python3",
      "display_name": "Python 3"
    },
    "language_info": {
      "name": "python"
    }
  },
  "cells": [
    {
      "cell_type": "markdown",
      "metadata": {
        "id": "view-in-github",
        "colab_type": "text"
      },
      "source": [
        "<a href=\"https://colab.research.google.com/github/ARt2406/June_test/blob/main/HomeWork_04_09_Task_03.ipynb\" target=\"_parent\"><img src=\"https://colab.research.google.com/assets/colab-badge.svg\" alt=\"Open In Colab\"/></a>"
      ]
    },
    {
      "cell_type": "code",
      "execution_count": 7,
      "metadata": {
        "id": "h_o9--c8vIfM",
        "colab": {
          "base_uri": "https://localhost:8080/"
        },
        "outputId": "bbc94678-9eca-4cd5-cda0-a1a13b3be003"
      },
      "outputs": [
        {
          "output_type": "stream",
          "name": "stdout",
          "text": [
            "6\n",
            "weight not change\n",
            " Attribute low not exist\n",
            "3\n",
            "2\n"
          ]
        }
      ],
      "source": [
        "class Rectangle:\n",
        "\n",
        "  def __init__(self, weight, height) -> None:\n",
        "    self._weight = weight\n",
        "    self._height = height\n",
        "\n",
        "  def __setattr__(self, name: str, value) -> None:\n",
        "    if name in ('weight', 'height'):\n",
        "      raise AttributeError(f'{name} not change')\n",
        "    else:\n",
        "      super().__setattr__(name, value)\n",
        "\n",
        "  def __getattr__(self, name: str):\n",
        "    return(f' Attribute {name} not exist')\n",
        "\n",
        "\n",
        "  @property\n",
        "  def height(self):\n",
        "    return self._height\n",
        "\n",
        "  @property\n",
        "  def weight(self):\n",
        "    return self._weight\n",
        "\n",
        "  @property\n",
        "  def area(self):\n",
        "    return self._weight * self._height\n",
        "\n",
        "x = Rectangle(3, 2)\n",
        "\n",
        "print(x.area)\n",
        "\n",
        "try:\n",
        "  x.weight = 'low'\n",
        "except AttributeError as e:\n",
        "  print(e)\n",
        "\n",
        "print(x.low)\n",
        "\n",
        "print(x.weight)\n",
        "print(x.height)\n",
        "\n",
        "\n"
      ]
    },
    {
      "cell_type": "code",
      "source": [],
      "metadata": {
        "id": "8hO3hGG31NAb"
      },
      "execution_count": null,
      "outputs": []
    }
  ]
}
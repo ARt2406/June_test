{
  "nbformat": 4,
  "nbformat_minor": 0,
  "metadata": {
    "colab": {
      "provenance": [],
      "name": "math_utils.py",
      "authorship_tag": "ABX9TyP6vVO6wp8S+4SRAC25ogPz",
      "include_colab_link": true
    },
    "kernelspec": {
      "name": "python3",
      "display_name": "Python 3"
    },
    "language_info": {
      "name": "python"
    }
  },
  "cells": [
    {
      "cell_type": "markdown",
      "metadata": {
        "id": "view-in-github",
        "colab_type": "text"
      },
      "source": [
        "<a href=\"https://colab.research.google.com/github/ARt2406/June_test/blob/main/math_utils_py.ipynb\" target=\"_parent\"><img src=\"https://colab.research.google.com/assets/colab-badge.svg\" alt=\"Open In Colab\"/></a>"
      ]
    },
    {
      "cell_type": "code",
      "execution_count": 65,
      "metadata": {
        "id": "h_o9--c8vIfM",
        "outputId": "8c23a48e-de62-427d-95af-d2a504395bdd",
        "colab": {
          "base_uri": "https://localhost:8080/"
        }
      },
      "outputs": [
        {
          "output_type": "stream",
          "name": "stdout",
          "text": [
            "Writing my_package/math_utils.py\n"
          ]
        }
      ],
      "source": [
        "\n",
        "#!mkdir my_package\n",
        "\n",
        "#%%writefile my_package/__init__.py\n",
        "\n",
        "%%writefile my_package/math_utils.py\n",
        "\n",
        "\n",
        "\n",
        "def is_prime(n):\n",
        "  if n < 2:\n",
        "    return False\n",
        "  for i in range(2, int(n ** 0.5) + 1):\n",
        "    if n % i == 0:\n",
        "      return False\n",
        "  else:\n",
        "    return True\n",
        "\n",
        "def factorial(n):\n",
        "  if n == 0 or n == 1:\n",
        "    return 1\n",
        "  else:\n",
        "    return n * factorial(n - 1)\n",
        "\n",
        "def gcd(a, b):\n",
        "  while b:\n",
        "    a,b = b,a / b\n",
        "    return a\n",
        "\n"
      ]
    },
    {
      "cell_type": "code",
      "source": [],
      "metadata": {
        "id": "BbJyQPos2gvD"
      },
      "execution_count": null,
      "outputs": []
    },
    {
      "cell_type": "code",
      "source": [],
      "metadata": {
        "id": "Yz-WaQ60IECu"
      },
      "execution_count": null,
      "outputs": []
    }
  ]
}
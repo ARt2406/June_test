{
  "nbformat": 4,
  "nbformat_minor": 0,
  "metadata": {
    "colab": {
      "provenance": [],
      "name": "HomeWork_Random_11.ipynb",
      "authorship_tag": "ABX9TyOXp/hUjRBNm+4sHFPuNIR5",
      "include_colab_link": true
    },
    "kernelspec": {
      "name": "python3",
      "display_name": "Python 3"
    },
    "language_info": {
      "name": "python"
    }
  },
  "cells": [
    {
      "cell_type": "markdown",
      "metadata": {
        "id": "view-in-github",
        "colab_type": "text"
      },
      "source": [
        "<a href=\"https://colab.research.google.com/github/ARt2406/June_test/blob/main/HomeWork_Random_11.ipynb\" target=\"_parent\"><img src=\"https://colab.research.google.com/assets/colab-badge.svg\" alt=\"Open In Colab\"/></a>"
      ]
    },
    {
      "cell_type": "code",
      "execution_count": 19,
      "metadata": {
        "id": "h_o9--c8vIfM",
        "colab": {
          "base_uri": "https://localhost:8080/"
        },
        "outputId": "cd10b192-f51f-4297-a3fd-b811c688f909"
      },
      "outputs": [
        {
          "output_type": "stream",
          "name": "stdout",
          "text": [
            "['task2']\n",
            "['task2']\n",
            "Yes task2 we have\n",
            "No task1 on our tasks\n"
          ]
        }
      ],
      "source": [
        "from re import T\n",
        "class TodoList:\n",
        "\n",
        "  def __init__(self) -> None:\n",
        "    self.tasks = []\n",
        "\n",
        "  def add_task(self, task):\n",
        "    self.tasks.append(task)\n",
        "    return self.tasks\n",
        "\n",
        "  def remove_task(self, task):\n",
        "    self.tasks.remove(task)\n",
        "    return self.tasks\n",
        "\n",
        "  def get_tasks(self):\n",
        "    print(self.tasks)\n",
        "\n",
        "  def clear_tasks(self):\n",
        "    self.tasks.clear()\n",
        "    return self.tasks\n",
        "\n",
        "  def find_task(self, task):\n",
        "    if task in self.tasks:\n",
        "      print(f'Yes {task} we have')\n",
        "    else:\n",
        "      print(f'No {task} on our tasks')\n",
        "\n",
        "todo_list = TodoList()\n",
        "todo_list.add_task('task1')\n",
        "todo_list.add_task('task2')\n",
        "todo_list.remove_task('task1')\n",
        "\n",
        "#todo_list.clear_tasks()\n",
        "\n",
        "print(todo_list.tasks)\n",
        "\n",
        "todo_list.get_tasks()\n",
        "\n",
        "todo_list.find_task('task2')\n",
        "todo_list.find_task('task1')\n"
      ]
    }
  ]
}
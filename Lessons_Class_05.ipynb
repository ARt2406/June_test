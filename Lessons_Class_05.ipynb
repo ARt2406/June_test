{
  "nbformat": 4,
  "nbformat_minor": 0,
  "metadata": {
    "colab": {
      "provenance": [],
      "name": "Lessons_Class_05.ipynb",
      "authorship_tag": "ABX9TyPdnSallfW6/qcNbwXnV9ny",
      "include_colab_link": true
    },
    "kernelspec": {
      "name": "python3",
      "display_name": "Python 3"
    },
    "language_info": {
      "name": "python"
    }
  },
  "cells": [
    {
      "cell_type": "markdown",
      "metadata": {
        "id": "view-in-github",
        "colab_type": "text"
      },
      "source": [
        "<a href=\"https://colab.research.google.com/github/ARt2406/June_test/blob/main/Lessons_Class_05.ipynb\" target=\"_parent\"><img src=\"https://colab.research.google.com/assets/colab-badge.svg\" alt=\"Open In Colab\"/></a>"
      ]
    },
    {
      "cell_type": "code",
      "execution_count": 44,
      "metadata": {
        "colab": {
          "base_uri": "https://localhost:8080/"
        },
        "id": "h_o9--c8vIfM",
        "outputId": "5d6d39a1-7e0c-4185-8a6c-9cc977ba6870"
      },
      "outputs": [
        {
          "output_type": "stream",
          "name": "stdout",
          "text": [
            "(3+7j)\n",
            "(1-1j)\n",
            "(-10+11j)\n",
            "(0.8235294117647058-0.29411764705882354j)\n"
          ]
        }
      ],
      "source": [
        "\n",
        "import math\n",
        "\n",
        "class ComplexCalculator:\n",
        "  def __init__(self, a, b) -> None:\n",
        "    self.a = a\n",
        "    self.b = b\n",
        "\n",
        "  def add(self):\n",
        "    return self.a + self.b\n",
        "\n",
        "  def subtract(self):\n",
        "    return self.a - self.b\n",
        "\n",
        "  def multiply(self):\n",
        "    return self.a * self.b\n",
        "\n",
        "  def divide(self):\n",
        "    return self.a / self.b\n",
        "\n",
        "\n",
        "\n",
        "num1 = complex(2, 3)\n",
        "num2 = complex(1, 4)\n",
        "calc = ComplexCalculator(num1, num2)\n",
        "\n",
        "\n",
        "print(calc.add())\n",
        "print(calc.subtract())\n",
        "print(calc.multiply())\n",
        "print(calc.divide())\n"
      ]
    }
  ]
}
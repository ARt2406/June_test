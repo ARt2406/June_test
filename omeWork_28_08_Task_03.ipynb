{
  "nbformat": 4,
  "nbformat_minor": 0,
  "metadata": {
    "colab": {
      "provenance": [],
      "name": "omeWork_28.08_Task_03.ipynb",
      "authorship_tag": "ABX9TyN7QKUtcz2b8iaD/t1RpzcC",
      "include_colab_link": true
    },
    "kernelspec": {
      "name": "python3",
      "display_name": "Python 3"
    },
    "language_info": {
      "name": "python"
    }
  },
  "cells": [
    {
      "cell_type": "markdown",
      "metadata": {
        "id": "view-in-github",
        "colab_type": "text"
      },
      "source": [
        "<a href=\"https://colab.research.google.com/github/ARt2406/June_test/blob/main/omeWork_28_08_Task_03.ipynb\" target=\"_parent\"><img src=\"https://colab.research.google.com/assets/colab-badge.svg\" alt=\"Open In Colab\"/></a>"
      ]
    },
    {
      "cell_type": "code",
      "execution_count": 2,
      "metadata": {
        "id": "h_o9--c8vIfM",
        "colab": {
          "base_uri": "https://localhost:8080/"
        },
        "outputId": "384641d5-3cfc-4078-c647-8638dad70aa4"
      },
      "outputs": [
        {
          "output_type": "stream",
          "name": "stdout",
          "text": [
            "42\n"
          ]
        }
      ],
      "source": [
        "def task_3(numbers, func):\n",
        "  return sum(map(func, numbers))\n",
        "def x2(x):\n",
        "  return x * 2\n",
        "\n",
        "numbers = [1,2,3,4,5,6]\n",
        "\n",
        "print(task_3(numbers, x2))"
      ]
    }
  ]
}
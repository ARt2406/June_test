{
  "nbformat": 4,
  "nbformat_minor": 0,
  "metadata": {
    "colab": {
      "provenance": [],
      "authorship_tag": "ABX9TyPo3aurrWIHqMGHiyhIqNCs",
      "include_colab_link": true
    },
    "kernelspec": {
      "name": "python3",
      "display_name": "Python 3"
    },
    "language_info": {
      "name": "python"
    }
  },
  "cells": [
    {
      "cell_type": "markdown",
      "metadata": {
        "id": "view-in-github",
        "colab_type": "text"
      },
      "source": [
        "<a href=\"https://colab.research.google.com/github/ARt2406/June_test/blob/main/Pandas_04.ipynb\" target=\"_parent\"><img src=\"https://colab.research.google.com/assets/colab-badge.svg\" alt=\"Open In Colab\"/></a>"
      ]
    },
    {
      "cell_type": "code",
      "execution_count": 2,
      "metadata": {
        "colab": {
          "base_uri": "https://localhost:8080/"
        },
        "id": "1hAwEQDNgO9y",
        "outputId": "a3831a73-c894-4768-f40b-abe6e0aeecb7"
      },
      "outputs": [
        {
          "output_type": "stream",
          "name": "stdout",
          "text": [
            "     Product   Category  Day_1_Sales  Day_2_Sales  Day_3_Sales  Discount\n",
            "0     Apples      Fruit          100          120          130      0.05\n",
            "1    Bananas      Fruit          150          180          170      0.10\n",
            "2   Cherries      Fruit          200          160          180      0.05\n",
            "3      Dates  Dry Fruit           50           70           60      0.00\n",
            "4  Eggplants  Vegetable           80           90          100      0.15\n",
            "     Product   Category  Day_1_Sales  Day_2_Sales  Day_3_Sales  Discount  \\\n",
            "0     Apples      Fruit          100          120          130      0.05   \n",
            "1    Bananas      Fruit          150          180          170      0.10   \n",
            "2   Cherries      Fruit          200          160          180      0.05   \n",
            "3      Dates  Dry Fruit           50           70           60      0.00   \n",
            "4  Eggplants  Vegetable           80           90          100      0.15   \n",
            "\n",
            "   Total_Sales  \n",
            "0          350  \n",
            "1          500  \n",
            "2          540  \n",
            "3          180  \n",
            "4          270  \n",
            "    Product Category  Day_1_Sales  Day_2_Sales  Day_3_Sales  Discount  \\\n",
            "2  Cherries    Fruit          200          160          180      0.05   \n",
            "\n",
            "   Total_Sales  Discounted_Total  \n",
            "2          540             513.0  \n",
            "Category\n",
            "Dry Fruit    180.000000\n",
            "Fruit        463.333333\n",
            "Vegetable    270.000000\n",
            "Name: Total_Sales, dtype: float64\n",
            "     Product   Category  Day_1_Sales  Day_2_Sales  Day_3_Sales  Discount  \\\n",
            "2   Cherries      Fruit          200          160          180      0.05   \n",
            "1    Bananas      Fruit          150          180          170      0.10   \n",
            "0     Apples      Fruit          100          120          130      0.05   \n",
            "4  Eggplants  Vegetable           80           90          100      0.15   \n",
            "3      Dates  Dry Fruit           50           70           60      0.00   \n",
            "\n",
            "   Total_Sales  Discounted_Total  \n",
            "2          540             513.0  \n",
            "1          500             450.0  \n",
            "0          350             332.5  \n",
            "4          270             229.5  \n",
            "3          180             180.0  \n"
          ]
        }
      ],
      "source": [
        "import pandas as pd\n",
        "\n",
        "data = {\n",
        "    'Product': ['Apples', 'Bananas', 'Cherries', 'Dates', 'Eggplants'],\n",
        "    'Category': ['Fruit', 'Fruit', 'Fruit', 'Dry Fruit', 'Vegetable'],\n",
        "    'Day_1_Sales': [100, 150, 200, 50, 80],\n",
        "    'Day_2_Sales': [120, 180, 160, 70, 90],\n",
        "    'Day_3_Sales': [130, 170, 180, 60, 100],\n",
        "    'Discount': [0.05, 0.10, 0.05, 0.0, 0.15]\n",
        "}\n",
        "\n",
        "#Создать DataFrame из этого словаря.\n",
        "df = pd.DataFrame(data)\n",
        "print(df)\n",
        "\n",
        "#Добавить новый столбец Total_Sales, который будет содержать общие продажи за три дня.\n",
        "df['Total_Sales'] = df['Day_1_Sales'] + df['Day_2_Sales'] + df['Day_3_Sales']\n",
        "print(df)\n",
        "\n",
        "#Добавить новый столбец Discounted_Total, который будет учитывать скидку для каждого продукта\n",
        "df['Discounted_Total'] = df['Total_Sales'] * (1 - df['Discount'])\n",
        "\n",
        "#Найти категорию продуктов с наибольшими общими продажами за три дня.\n",
        "Total_Sales_max = df[df['Total_Sales'] == df['Total_Sales'].max()]\n",
        "print(Total_Sales_max)\n",
        "\n",
        "#Найти среднюю сумму продаж с учетом скидки для каждой категории.\n",
        "means_category = df.groupby('Category')['Total_Sales'].mean()\n",
        "print(means_category)\n",
        "\n",
        "#Отсортировать таблицу по столбцу Discounted_Total в порядке убывания и вывести отсортированную таблицу.\n",
        "Discounted_Total_sort = df.sort_values(by='Discounted_Total', ascending=False)\n",
        "print(Discounted_Total_sort)\n",
        "\n",
        "\n"
      ]
    }
  ]
}
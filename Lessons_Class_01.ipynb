{
  "nbformat": 4,
  "nbformat_minor": 0,
  "metadata": {
    "colab": {
      "provenance": [],
      "name": "Lessons_Class_01.ipynb",
      "toc_visible": true,
      "authorship_tag": "ABX9TyO80hTtXYGtb2cLh8Wkmif6",
      "include_colab_link": true
    },
    "kernelspec": {
      "name": "python3",
      "display_name": "Python 3"
    },
    "language_info": {
      "name": "python"
    }
  },
  "cells": [
    {
      "cell_type": "markdown",
      "metadata": {
        "id": "view-in-github",
        "colab_type": "text"
      },
      "source": [
        "<a href=\"https://colab.research.google.com/github/ARt2406/June_test/blob/main/Lessons_Class_01.ipynb\" target=\"_parent\"><img src=\"https://colab.research.google.com/assets/colab-badge.svg\" alt=\"Open In Colab\"/></a>"
      ]
    },
    {
      "cell_type": "code",
      "execution_count": null,
      "metadata": {
        "colab": {
          "base_uri": "https://localhost:8080/"
        },
        "id": "h_o9--c8vIfM",
        "outputId": "8e70bacc-5867-4f8e-e38e-9a3b7f3c5a31"
      },
      "outputs": [
        {
          "output_type": "stream",
          "name": "stdout",
          "text": [
            "1000\n",
            "vneseno 100, teper na balance 1100\n",
            "1100\n",
            "Nema grosey\n",
            "1100\n"
          ]
        }
      ],
      "source": [
        "class BankAccount:\n",
        "\n",
        "  def __init__ (self, account_holder , balance=0):\n",
        "    self.account_holder = account_holder\n",
        "    self.balance = balance\n",
        "\n",
        "  def deposit(self, amount):\n",
        "    if amount > 0:\n",
        "      self.balance += amount\n",
        "      print(f'Deposit {amount}, now on balance {self.balance}')\n",
        "\n",
        "\n",
        "  def withdraw(self, amount):\n",
        "    if amount > self.balance:\n",
        "      print('No money')\n",
        "    else:\n",
        "\n",
        "      self.balance -= amount\n",
        "      print(f'Withrawal {amount}, now on balance {self.balance}')\n",
        "\n",
        "\n",
        "\n",
        "  def display_balance(self):\n",
        "    return self.balance\n",
        "\n",
        "account = BankAccount('Petr', 1000)\n",
        "\n",
        "print(account.display_balance())\n",
        "\n",
        "account.deposit(100)\n",
        "print(account.balance)\n",
        "\n",
        "account.withdraw(1500)\n",
        "print(account.balance)"
      ]
    }
  ]
}
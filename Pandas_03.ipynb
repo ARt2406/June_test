{
  "nbformat": 4,
  "nbformat_minor": 0,
  "metadata": {
    "colab": {
      "provenance": [],
      "authorship_tag": "ABX9TyPXGLuP5+M17S4NESTXUKfh",
      "include_colab_link": true
    },
    "kernelspec": {
      "name": "python3",
      "display_name": "Python 3"
    },
    "language_info": {
      "name": "python"
    }
  },
  "cells": [
    {
      "cell_type": "markdown",
      "metadata": {
        "id": "view-in-github",
        "colab_type": "text"
      },
      "source": [
        "<a href=\"https://colab.research.google.com/github/ARt2406/June_test/blob/main/Pandas_03.ipynb\" target=\"_parent\"><img src=\"https://colab.research.google.com/assets/colab-badge.svg\" alt=\"Open In Colab\"/></a>"
      ]
    },
    {
      "cell_type": "code",
      "execution_count": 1,
      "metadata": {
        "colab": {
          "base_uri": "https://localhost:8080/"
        },
        "id": "1hAwEQDNgO9y",
        "outputId": "0a4dee0f-d443-4ab0-f3ce-23040a4e39af"
      },
      "outputs": [
        {
          "output_type": "stream",
          "name": "stdout",
          "text": [
            "     Product  January  February  March\n",
            "0     Apples      100       120    130\n",
            "1    Bananas      150       180    170\n",
            "2   Cherries      200       160    180\n",
            "3      Dates       50        70     60\n",
            "4  Eggplants       80        90    100\n",
            "     Product  January  February  March  Total_Sales\n",
            "0     Apples      100       120    130          350\n",
            "1    Bananas      150       180    170          500\n",
            "2   Cherries      200       160    180          540\n",
            "3      Dates       50        70     60          180\n",
            "4  Eggplants       80        90    100          270\n",
            "    Product  January  February  March  Total_Sales\n",
            "2  Cherries      200       160    180          540\n",
            "January mean 116.0\n",
            "February mean 124.0\n",
            "March mean 128.0\n",
            "     Product  January  February  March  Total_Sales\n",
            "2   Cherries      200       160    180          540\n",
            "1    Bananas      150       180    170          500\n",
            "0     Apples      100       120    130          350\n",
            "4  Eggplants       80        90    100          270\n",
            "3      Dates       50        70     60          180\n"
          ]
        }
      ],
      "source": [
        "import pandas as pd\n",
        "\n",
        "data = {\n",
        "    'Product': ['Apples', 'Bananas', 'Cherries', 'Dates', 'Eggplants'],\n",
        "    'January': [100, 150, 200, 50, 80],\n",
        "    'February': [120, 180, 160, 70, 90],\n",
        "    'March': [130, 170, 180, 60, 100]\n",
        "}\n",
        "\n",
        "df = pd.DataFrame(data)\n",
        "print(df)\n",
        "\n",
        "df['Total_Sales'] = df['January'] + df['February'] + df['March']\n",
        "print(df)\n",
        "\n",
        "Total_Sales_max = df[df['Total_Sales'] == df['Total_Sales'].max()]\n",
        "print(Total_Sales_max)\n",
        "\n",
        "January_mean = df['January'].mean()\n",
        "print((f'January mean {January_mean}'))\n",
        "February_mean = df['February'].mean()\n",
        "print((f'February mean {February_mean}'))\n",
        "March_mean = df['March'].mean()\n",
        "print((f'March mean {March_mean}'))\n",
        "\n",
        "Total_Sales_sort = df.sort_values(by='Total_Sales', ascending=False)\n",
        "print(Total_Sales_sort)\n",
        "\n",
        "\n"
      ]
    }
  ]
}
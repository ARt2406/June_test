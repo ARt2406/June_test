{
  "nbformat": 4,
  "nbformat_minor": 0,
  "metadata": {
    "colab": {
      "provenance": [],
      "name": "Multiprocessing_01.ipynb",
      "authorship_tag": "ABX9TyMdcrnp65EcWPLeTpn6ZVLx",
      "include_colab_link": true
    },
    "kernelspec": {
      "name": "python3",
      "display_name": "Python 3"
    },
    "language_info": {
      "name": "python"
    }
  },
  "cells": [
    {
      "cell_type": "markdown",
      "metadata": {
        "id": "view-in-github",
        "colab_type": "text"
      },
      "source": [
        "<a href=\"https://colab.research.google.com/github/ARt2406/June_test/blob/main/Multiprocessing_01.ipynb\" target=\"_parent\"><img src=\"https://colab.research.google.com/assets/colab-badge.svg\" alt=\"Open In Colab\"/></a>"
      ]
    },
    {
      "cell_type": "code",
      "execution_count": 12,
      "metadata": {
        "id": "h_o9--c8vIfM",
        "colab": {
          "base_uri": "https://localhost:8080/"
        },
        "outputId": "3e0832fa-efbe-432f-8385-2a28f9dab302"
      },
      "outputs": [
        {
          "output_type": "stream",
          "name": "stdout",
          "text": [
            "worker process 0 start\n",
            "worker process 1 start\n",
            "worker process 2 start\n",
            "worker process 0 finish\n",
            "worker process 1 finish\n",
            "worker process 2 finish\n",
            "all done\n"
          ]
        }
      ],
      "source": [
        "from multiprocessing import process\n",
        "\n",
        "import multiprocessing\n",
        "import time\n",
        "\n",
        "def worker(name):\n",
        "  print(f'worker {name} start')\n",
        "  time.sleep (2)\n",
        "  print(f'worker {name} finish')\n",
        "\n",
        "if __name__ == '__main__':\n",
        "  processes = []\n",
        "  for i in range(3):\n",
        "    p = multiprocessing.Process(target=worker, args=(f'process {i}',))\n",
        "    processes.append(p)\n",
        "    p.start()\n",
        "\n",
        "for p in processes:\n",
        "  p.join()\n",
        "\n",
        "print('all done')\n"
      ]
    }
  ]
}
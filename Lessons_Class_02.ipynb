{
  "nbformat": 4,
  "nbformat_minor": 0,
  "metadata": {
    "colab": {
      "provenance": [],
      "name": "Lessons_Class_02.ipynb",
      "authorship_tag": "ABX9TyMMLNSyELFKnCgvx6HHYj3t",
      "include_colab_link": true
    },
    "kernelspec": {
      "name": "python3",
      "display_name": "Python 3"
    },
    "language_info": {
      "name": "python"
    }
  },
  "cells": [
    {
      "cell_type": "markdown",
      "metadata": {
        "id": "view-in-github",
        "colab_type": "text"
      },
      "source": [
        "<a href=\"https://colab.research.google.com/github/ARt2406/June_test/blob/main/Lessons_Class_02.ipynb\" target=\"_parent\"><img src=\"https://colab.research.google.com/assets/colab-badge.svg\" alt=\"Open In Colab\"/></a>"
      ]
    },
    {
      "cell_type": "code",
      "execution_count": 12,
      "metadata": {
        "colab": {
          "base_uri": "https://localhost:8080/"
        },
        "id": "h_o9--c8vIfM",
        "outputId": "b1175b72-88fb-477b-dd1c-99c8f22c26b8"
      },
      "outputs": [
        {
          "output_type": "stream",
          "name": "stdout",
          "text": [
            "87.67\n",
            "[90, 85, 88]\n",
            "None\n"
          ]
        }
      ],
      "source": [
        "class Student:\n",
        "  def __init__(self, name, grades) -> None:\n",
        "      self.name = name\n",
        "      self.grades = []\n",
        "\n",
        "  def add_grade(self, grade=int):\n",
        "    if grade > 0 and grade < 100:\n",
        "      self.grades.append(grade)\n",
        "\n",
        "  def get_average(self):\n",
        "    if self.grades:\n",
        "      return sum(self.grades) / len(self.grades)\n",
        "    else:\n",
        "      return 0\n",
        "\n",
        "  def get_grades(self):\n",
        "    return print(self.grades)\n",
        "\n",
        "\n",
        "student1 = Student(\"Alice\", 0)\n",
        "\n",
        "student1.add_grade(90)\n",
        "student1.add_grade(85)\n",
        "student1.add_grade(88)\n",
        "\n",
        "print(f'{student1.get_average():.2f}')\n",
        "\n",
        "print(student1.get_grades())"
      ]
    }
  ]
}
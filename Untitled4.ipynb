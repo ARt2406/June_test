{
  "nbformat": 4,
  "nbformat_minor": 0,
  "metadata": {
    "colab": {
      "provenance": [],
      "authorship_tag": "ABX9TyP49F96tlMFAaz8Ecv1D+nv",
      "include_colab_link": true
    },
    "kernelspec": {
      "name": "python3",
      "display_name": "Python 3"
    },
    "language_info": {
      "name": "python"
    }
  },
  "cells": [
    {
      "cell_type": "markdown",
      "metadata": {
        "id": "view-in-github",
        "colab_type": "text"
      },
      "source": [
        "<a href=\"https://colab.research.google.com/github/ARt2406/June_test/blob/main/Untitled4.ipynb\" target=\"_parent\"><img src=\"https://colab.research.google.com/assets/colab-badge.svg\" alt=\"Open In Colab\"/></a>"
      ]
    },
    {
      "cell_type": "code",
      "execution_count": 47,
      "metadata": {
        "colab": {
          "base_uri": "https://localhost:8080/"
        },
        "id": "h_o9--c8vIfM",
        "outputId": "2e0d6e31-6452-42a2-e40e-d0e9136464ac"
      },
      "outputs": [
        {
          "output_type": "stream",
          "name": "stdout",
          "text": [
            "{'decorations': 1327.38, 'food': 2556.89, 'toys': 1450.56, 'drinks': 3027.0199999999995, 'accessories': 2314.1, 'instruments': 2598.19, 'clothes': 1782.5700000000002}\n",
            "{'BobSimson': 2500.7, 'Mary': 3192.200000000001, 'Aleksa': 3194.6500000000005, 'MariaSimson': 3394.1699999999996, 'Jack': 2774.99}\n",
            "sdfsd: Jack\n",
            "Jack, 2774.99\n"
          ]
        }
      ],
      "source": [
        "\n",
        "def expenses_by_category(filename):\n",
        "\n",
        "  with open(filename, 'r') as file:\n",
        "\n",
        "    expenses = {}\n",
        "    for line in file:\n",
        "        parts = line.split()\n",
        "        *_ , money, category = parts\n",
        "        money = float(money.replace('$', ''))\n",
        "        expenses[category] = expenses.get(category, 0) + money\n",
        "\n",
        "    return expenses\n",
        "\n",
        "filename = 'hw_10_test.txt'\n",
        "res = expenses_by_category(filename)\n",
        "print(res)\n",
        "\n",
        "def expenses_by_peple(filename):\n",
        "\n",
        "  with open(filename, 'r') as file:\n",
        "\n",
        "    expenses = {}\n",
        "    for line in file:\n",
        "        parts = line.split()\n",
        "        name = ''.join(parts[1:-2])\n",
        "        money = float(parts[-2].replace('$', ''))\n",
        "        expenses[name] = expenses.get(name, 0) + money\n",
        "\n",
        "    return expenses\n",
        "\n",
        "filename = 'hw_10_test.txt'\n",
        "res1 = expenses_by_peple(filename)\n",
        "print(res1)\n",
        "\n",
        "\n",
        "import copy\n",
        "res2 = copy.deepcopy(res1)\n",
        "\n",
        "name = input('Enter name: ')\n",
        "if name in res2:\n",
        "  value = res2[name]\n",
        "  print(f\"{name}, {value:.2f}\")\n",
        "else:\n",
        "  print('Not a name among these alcoholics')"
      ]
    }
  ]
}
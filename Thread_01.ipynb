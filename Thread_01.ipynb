{
  "nbformat": 4,
  "nbformat_minor": 0,
  "metadata": {
    "colab": {
      "provenance": [],
      "name": "Thread_01.ipynb",
      "authorship_tag": "ABX9TyMTd+N6iJxLtDYFHjyWF90r",
      "include_colab_link": true
    },
    "kernelspec": {
      "name": "python3",
      "display_name": "Python 3"
    },
    "language_info": {
      "name": "python"
    }
  },
  "cells": [
    {
      "cell_type": "markdown",
      "metadata": {
        "id": "view-in-github",
        "colab_type": "text"
      },
      "source": [
        "<a href=\"https://colab.research.google.com/github/ARt2406/June_test/blob/main/Thread_01.ipynb\" target=\"_parent\"><img src=\"https://colab.research.google.com/assets/colab-badge.svg\" alt=\"Open In Colab\"/></a>"
      ]
    },
    {
      "cell_type": "code",
      "execution_count": 5,
      "metadata": {
        "id": "h_o9--c8vIfM",
        "colab": {
          "base_uri": "https://localhost:8080/"
        },
        "outputId": "ae04abbb-3c9e-4978-c7e3-e543a01fb36c"
      },
      "outputs": [
        {
          "output_type": "stream",
          "name": "stdout",
          "text": [
            "worker Threads 0 start\n",
            "worker Threads 1 start\n",
            "worker Threads 2 start\n",
            "worker Threads 0 finishworker Threads 1 finish\n",
            "\n",
            "worker Threads 2 finish\n",
            "all done\n"
          ]
        }
      ],
      "source": [
        "import threading\n",
        "import time\n",
        "\n",
        "def worker(name):\n",
        "  print(f'worker {name} start')\n",
        "  time.sleep (2)\n",
        "  print(f'worker {name} finish')\n",
        "\n",
        "threads = []\n",
        "for i in range(3):\n",
        "  t = threading.Thread(target=worker, args=(f'Threads {i}',))\n",
        "  threads.append(t)\n",
        "  t.start()\n",
        "\n",
        "for t in threads:\n",
        "  t.join()\n",
        "\n",
        "print(f'all done')\n"
      ]
    }
  ]
}
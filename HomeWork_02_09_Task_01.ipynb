{
  "nbformat": 4,
  "nbformat_minor": 0,
  "metadata": {
    "colab": {
      "provenance": [],
      "name": "HomeWork_02.09_Task_01.ipynb",
      "authorship_tag": "ABX9TyMFs5bICZkMI/h+cLb5K5RH",
      "include_colab_link": true
    },
    "kernelspec": {
      "name": "python3",
      "display_name": "Python 3"
    },
    "language_info": {
      "name": "python"
    }
  },
  "cells": [
    {
      "cell_type": "markdown",
      "metadata": {
        "id": "view-in-github",
        "colab_type": "text"
      },
      "source": [
        "<a href=\"https://colab.research.google.com/github/ARt2406/June_test/blob/main/HomeWork_02_09_Task_01.ipynb\" target=\"_parent\"><img src=\"https://colab.research.google.com/assets/colab-badge.svg\" alt=\"Open In Colab\"/></a>"
      ]
    },
    {
      "cell_type": "code",
      "execution_count": 2,
      "metadata": {
        "id": "h_o9--c8vIfM",
        "colab": {
          "base_uri": "https://localhost:8080/"
        },
        "outputId": "38a60aaa-727b-49da-9b23-259ced50313a"
      },
      "outputs": [
        {
          "output_type": "stream",
          "name": "stdout",
          "text": [
            "Start\n",
            "Hi John\n",
            "Finish\n"
          ]
        }
      ],
      "source": [
        "def task1(func):\n",
        "  def wrapper(*args, **kwargs):\n",
        "    print('Start')\n",
        "\n",
        "    res = func(*args, **kwargs)\n",
        "\n",
        "    print('Finish')\n",
        "    return res\n",
        "  return wrapper\n",
        "\n",
        "@task1\n",
        "def author(name):\n",
        "  print(f'Hi {name}')\n",
        "\n",
        "author(\"John\")"
      ]
    }
  ]
}
{
  "nbformat": 4,
  "nbformat_minor": 0,
  "metadata": {
    "colab": {
      "provenance": [],
      "name": "Lessons_Class_03.ipynb",
      "authorship_tag": "ABX9TyMCIG6CGF8gEcQJ/buhtibP",
      "include_colab_link": true
    },
    "kernelspec": {
      "name": "python3",
      "display_name": "Python 3"
    },
    "language_info": {
      "name": "python"
    }
  },
  "cells": [
    {
      "cell_type": "markdown",
      "metadata": {
        "id": "view-in-github",
        "colab_type": "text"
      },
      "source": [
        "<a href=\"https://colab.research.google.com/github/ARt2406/June_test/blob/main/Lessons_Class_03.ipynb\" target=\"_parent\"><img src=\"https://colab.research.google.com/assets/colab-badge.svg\" alt=\"Open In Colab\"/></a>"
      ]
    },
    {
      "cell_type": "code",
      "execution_count": 16,
      "metadata": {
        "colab": {
          "base_uri": "https://localhost:8080/"
        },
        "id": "h_o9--c8vIfM",
        "outputId": "5b45e60a-5b33-4a45-8307-1c2f616eb856"
      },
      "outputs": [
        {
          "output_type": "stream",
          "name": "stdout",
          "text": [
            "\"The Catcher in the Rye\" J.D. Salinger Автор, Количество страниц: 277\n",
            "True\n",
            "False\n"
          ]
        }
      ],
      "source": [
        "class Book:\n",
        "  def __init__(self, title, author, pages) -> None:\n",
        "      self.title  = title\n",
        "      self.author = author\n",
        "      self.pages = pages\n",
        "\n",
        "  def description(self):\n",
        "    return f'\"{self.title}\" {self.author} Автор, Количество страниц: {self.pages}'\n",
        "\n",
        "  def is_long_book(self):\n",
        "    return self.pages >= 500\n",
        "\n",
        "\n",
        "book1 = Book(\"The Catcher in the Rye\", \"J.D. Salinger\", 277)\n",
        "book2 = Book(\"War and Peace\", \"Leo Tolstoy\", 1225)\n",
        "\n",
        "print(book1.description())  # Ожидаемый результат: 'The Catcher in the Rye автора J.D. Salinger, Количество страниц: 277'\n",
        "print(book2.is_long_book())  # Ожидаемый результат: True\n",
        "print(book1.is_long_book())  # Ожидаемый результат: False\n",
        "\n"
      ]
    }
  ]
}
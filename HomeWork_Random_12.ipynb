{
  "nbformat": 4,
  "nbformat_minor": 0,
  "metadata": {
    "colab": {
      "provenance": [],
      "name": "omeWork_28.08_Task_02.ipynb",
      "authorship_tag": "ABX9TyOB3ScbbxNMDETe+OngozPv",
      "include_colab_link": true
    },
    "kernelspec": {
      "name": "python3",
      "display_name": "Python 3"
    },
    "language_info": {
      "name": "python"
    }
  },
  "cells": [
    {
      "cell_type": "markdown",
      "metadata": {
        "id": "view-in-github",
        "colab_type": "text"
      },
      "source": [
        "<a href=\"https://colab.research.google.com/github/ARt2406/June_test/blob/main/HomeWork_Random_12.ipynb\" target=\"_parent\"><img src=\"https://colab.research.google.com/assets/colab-badge.svg\" alt=\"Open In Colab\"/></a>"
      ]
    },
    {
      "cell_type": "code",
      "execution_count": 14,
      "metadata": {
        "id": "h_o9--c8vIfM",
        "colab": {
          "base_uri": "https://localhost:8080/"
        },
        "outputId": "55471efd-9939-409a-ab6b-d7d0c8b89be2"
      },
      "outputs": [
        {
          "output_type": "stream",
          "name": "stdout",
          "text": [
            "Имя: Bob, Телефон: +987654321, Email: bob@example.com\n",
            "None\n",
            "Имя: Alice, Телефон: +123456789, Email: alice@example.com\n",
            "Имя: Charlie, Телефон: +192837465, Email: charlie@example.com\n"
          ]
        }
      ],
      "source": [
        "class Contact:\n",
        "\n",
        "  def __init__(self, name, phone, email) -> None:\n",
        "    self.name = name\n",
        "    self.phone = phone\n",
        "    self.email = email\n",
        "    self.contact_l = []\n",
        "\n",
        "  def __str__(self) -> str:\n",
        "    return f\"Имя: {self.name}, Телефон: {self.phone}, Email: {self.email}\"\n",
        "\n",
        "class ContactList:\n",
        "  def __init__(self):\n",
        "    self.contact_l = []\n",
        "\n",
        "  def add_contact(self, contact):\n",
        "    self.contact_l.append(contact)\n",
        "\n",
        "  def remove_contact(self, contact):\n",
        "    self.contact_l.remove(contact)\n",
        "\n",
        "  def find_contact_by_name(self, name):\n",
        "    for c in self.contact_l:\n",
        "      if c.name.lower() == name.lower():\n",
        "        print(c)\n",
        "        return\n",
        "    print(f'{name} cant find')\n",
        "\n",
        "  def display_contacts(self):\n",
        "    for c in self.contact_l:\n",
        "      print(c)\n",
        "\n",
        "# Создание экземпляров класса Contact\n",
        "contact1 = Contact(\"Alice\", \"+123456789\", \"alice@example.com\")\n",
        "contact2 = Contact(\"Bob\", \"+987654321\", \"bob@example.com\")\n",
        "contact3 = Contact(\"Charlie\", \"+192837465\", \"charlie@example.com\")\n",
        "\n",
        "# Создание экземпляра класса ContactList и добавление контактов\n",
        "contact_list = ContactList()\n",
        "contact_list.add_contact(contact1)\n",
        "contact_list.add_contact(contact2)\n",
        "contact_list.add_contact(contact3)\n",
        "\n",
        "# Поиск контакта по имени\n",
        "found_contact = contact_list.find_contact_by_name(\"Bob\")\n",
        "print(found_contact)\n",
        "\n",
        "# Удаление контакта\n",
        "contact_list.remove_contact(contact2)\n",
        "\n",
        "# Вывод всех контактов\n",
        "contact_list.display_contacts()\n"
      ]
    }
  ]
}
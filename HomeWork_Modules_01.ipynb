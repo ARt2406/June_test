{
  "nbformat": 4,
  "nbformat_minor": 0,
  "metadata": {
    "colab": {
      "provenance": [],
      "name": "HomeWork_Modules_01.ipynb",
      "authorship_tag": "ABX9TyOhb4OK7LjZbkNgXWj1/VG8",
      "include_colab_link": true
    },
    "kernelspec": {
      "name": "python3",
      "display_name": "Python 3"
    },
    "language_info": {
      "name": "python"
    }
  },
  "cells": [
    {
      "cell_type": "markdown",
      "metadata": {
        "id": "view-in-github",
        "colab_type": "text"
      },
      "source": [
        "<a href=\"https://colab.research.google.com/github/ARt2406/June_test/blob/main/HomeWork_Modules_01.ipynb\" target=\"_parent\"><img src=\"https://colab.research.google.com/assets/colab-badge.svg\" alt=\"Open In Colab\"/></a>"
      ]
    },
    {
      "cell_type": "code",
      "execution_count": 26,
      "metadata": {
        "id": "h_o9--c8vIfM",
        "colab": {
          "base_uri": "https://localhost:8080/"
        },
        "outputId": "15f2071f-9e4a-43b5-c526-d94b2bb08ced"
      },
      "outputs": [
        {
          "output_type": "stream",
          "name": "stdout",
          "text": [
            "Overwriting my_package/products.py\n"
          ]
        }
      ],
      "source": [
        "\n",
        "#!mkdir my_package\n",
        "\n",
        "#%%writefile my_package/__init__.py\n",
        "\n",
        "#%%writefile my_package/products.py\n",
        "\n",
        "\n",
        "class InvalidPriceError(Exception):\n",
        "  def __init__(self, message='Price must more then zero'):\n",
        "    self.message = message\n",
        "    super().__init__(self.message)\n",
        "\n",
        "class InvalidQuantityError(Exception):\n",
        "  def __init__(self, message='InvalidQuantityError!!!!!!!'):\n",
        "    self.message = message\n",
        "    super().__init__(self.message)\n",
        "\n",
        "class LoggingMixin():\n",
        "  def log(self, message):\n",
        "    print(f'[LOG]: {message}')\n",
        "\n",
        "\n",
        "class Product(LoggingMixin):\n",
        "    def __init__(self, name, price, description):\n",
        "      if price <= 0:\n",
        "        self.log(f'Zero price')\n",
        "        raise InvalidPriceError\n",
        "      self.name = name\n",
        "      self.price = price\n",
        "      self.description = description\n",
        "      #self.log(f'Add new product')\n",
        "\n",
        "    def __str__(self):\n",
        "        return f'{self.name} - ${self.price} UAH'\n",
        "\n"
      ]
    },
    {
      "cell_type": "code",
      "source": [
        "\n",
        "\n",
        "\n",
        "%%writefile my_package/discont.py\n",
        "from my_package.products import LoggingMixin\n",
        "\n",
        "class Discount:\n",
        "    def apply(self, price):\n",
        "        pass\n",
        "\n",
        "\n",
        "class PercentageDiscount(Discount):\n",
        "    def __init__(self, percentage: float | int = 0.1):\n",
        "        if 0 <= percentage <= 1:\n",
        "            self.percentage = percentage\n",
        "        else:\n",
        "            self.percentage = 0\n",
        "\n",
        "    def apply(self, price: float | int):\n",
        "        return price * (1 - self.percentage)\n",
        "\n",
        "\n",
        "\n",
        "class FixedAmountDiscount(Discount, LoggingMixin):\n",
        "    def __init__(self, amount: float | int = 0):\n",
        "        if amount < 0:\n",
        "            amount = 0\n",
        "        self.amount = amount\n",
        "        self.log(f'FixedAmountDiscount is {self.amount}')\n",
        "\n",
        "    def apply(self, price: float | int):\n",
        "        if price < self.amount:\n",
        "            return 0\n",
        "        return price - self.amount\n",
        "\n",
        "\n",
        "\n",
        "class DiscountMixin():\n",
        "    def apply_discount(self, discount: Discount):\n",
        "        # if self.products not exists\n",
        "        if hasattr(self, 'products'):\n",
        "            for product in self.products:\n",
        "                product.price = discount.apply(product.price)\n",
        "\n",
        "\n"
      ],
      "metadata": {
        "id": "Yz-WaQ60IECu",
        "colab": {
          "base_uri": "https://localhost:8080/"
        },
        "outputId": "da48f7c3-b0e1-49ce-8b94-a5eab99f53a2"
      },
      "execution_count": 51,
      "outputs": [
        {
          "output_type": "stream",
          "name": "stdout",
          "text": [
            "Overwriting my_package/discont.py\n"
          ]
        }
      ]
    },
    {
      "cell_type": "code",
      "source": [
        "\n",
        "%%writefile my_package/pay.py\n",
        "from my_package.discont import DiscountMixin\n",
        "\n",
        "\n",
        "class PaymentProcessor:\n",
        "    def pay(self, amount):\n",
        "        pass\n",
        "\n",
        "\n",
        "class CreditCardProcessor(PaymentProcessor):\n",
        "    def __init__(self, card_number, card_holder, cvv, expiry_date):\n",
        "        self.card_number = card_number\n",
        "        self.card_holder = card_holder\n",
        "        self.cvv = cvv\n",
        "        self.expiry_date = expiry_date\n",
        "\n",
        "    def pay(self, amount):\n",
        "        print(f'Paying ${amount} with credit card {self.card_number}')\n",
        "\n",
        "\n",
        "class PayPalProcessor(PaymentProcessor):\n",
        "    def __init__(self, email):\n",
        "        self.email = email\n",
        "\n",
        "    def pay(self, amount):\n",
        "        print(f'Paying ${amount} with PayPal account {self.email}')\n",
        "\n",
        "\n",
        "class BankTransferProcessor(PaymentProcessor):\n",
        "    def __init__(self, account_number, account_holder):\n",
        "        self.account_number = account_number\n",
        "        self.account_holder = account_holder\n",
        "\n",
        "    def pay(self, amount):\n",
        "        print(f'Paying ${amount} with bank transfer from account {self.account_number}')\n",
        "\n",
        "\n",
        "class Cart(DiscountMixin):\n",
        "    def __init__(self):\n",
        "        self.products = {}\n",
        "\n",
        "    def add_product(self, product, quantity):\n",
        "      if quantity <= 0:\n",
        "        raise InvalidQuantityError\n",
        "      self.products[product] = self.products.get(product, 0) + quantity\n",
        "\n",
        "    def total_cost(self):\n",
        "        return sum(product.price * quantity for product, quantity in self.products.items())\n",
        "\n",
        "    def pay(self, payment_processor: PaymentProcessor):\n",
        "        payment_processor.pay(self.total_cost())\n",
        "\n",
        "    def __str__(self):\n",
        "        return '\\n'.join(f'{product} x {quantity} = {product.price * quantity} UAH'\n",
        "                         for product, quantity in self.products.items())\n",
        "\n",
        "\n"
      ],
      "metadata": {
        "id": "6TuTzV4IK3Dz",
        "outputId": "f2f07bf8-9f84-4d06-d47f-fca9a5b8ed62",
        "colab": {
          "base_uri": "https://localhost:8080/"
        }
      },
      "execution_count": 54,
      "outputs": [
        {
          "output_type": "stream",
          "name": "stdout",
          "text": [
            "Overwriting my_package/pay.py\n"
          ]
        }
      ]
    },
    {
      "cell_type": "code",
      "source": [
        "from my_package.products import Product, InvalidQuantityError, LoggingMixin\n",
        "from my_package.discont import PercentageDiscount, FixedAmountDiscount, DiscountMixin\n",
        "from my_package.pay import CreditCardProcessor, PayPalProcessor, BankTransferProcessor\n",
        "\n",
        "def main():\n",
        "    # Creating instances of the Product class\n",
        "    product1 = Product(\"Laptop\", 1500.00, \"A high-end gaming laptop\")\n",
        "    product2 = Product(\"Mouse\", 50.00, \"A wireless mouse\")\n",
        "    product3 = Product(\"Keyboard\", 100.00, \"A mechanical keyboard\")\n",
        "\n",
        "    # Creating an instance of the Cart class and adding products\n",
        "    cart = Cart()\n",
        "    cart.add_product(product1, 1)\n",
        "    cart.add_product(product2, 2)\n",
        "    cart.add_product(product3, 1)\n",
        "\n",
        "    print(cart)\n",
        "    print(\"Total cost:\", cart.total_cost())\n",
        "\n",
        "    # Applying different types of discounts\n",
        "    percentage_discount = PercentageDiscount(0.5)\n",
        "    fixed_amount_discount = FixedAmountDiscount(20)\n",
        "\n",
        "    cart.apply_discount(percentage_discount)\n",
        "    print(cart)\n",
        "    print(\"Total cost after percentage discount:\", cart.total_cost())\n",
        "\n",
        "    cart.apply_discount(fixed_amount_discount)\n",
        "    print(cart)\n",
        "    print(\"Total cost after fixed amount discount:\", cart.total_cost())\n",
        "\n",
        "    # Using different payment systems\n",
        "    credit_card_processor = CreditCardProcessor(\"1234-5678-9876-5432\", \"John Doe\", \"123\", \"12/25\")\n",
        "    paypal_processor = PayPalProcessor(\"john.doe@example.com\")\n",
        "    bank_transfer_processor = BankTransferProcessor(\"987654321\", \"John Doe\")\n",
        "\n",
        "    cart.pay(credit_card_processor)\n",
        "    cart.pay(paypal_processor)\n",
        "    cart.pay(bank_transfer_processor)\n",
        "\n",
        "\n",
        "if __name__ == \"__main__\":\n",
        "    main()"
      ],
      "metadata": {
        "colab": {
          "base_uri": "https://localhost:8080/"
        },
        "id": "BbJyQPos2gvD",
        "outputId": "bbfb73e6-0927-4b4b-ce45-e620b4672408"
      },
      "execution_count": 55,
      "outputs": [
        {
          "output_type": "stream",
          "name": "stdout",
          "text": [
            "Laptop - $1500.0 UAH x 1 = 1500.0 UAH\n",
            "Mouse - $50.0 UAH x 2 = 100.0 UAH\n",
            "Keyboard - $100.0 UAH x 1 = 100.0 UAH\n",
            "Total cost: 1700.0\n",
            "[LOG]: FixedAmountDiscount is 20\n",
            "Laptop - $750.0 UAH x 1 = 750.0 UAH\n",
            "Mouse - $25.0 UAH x 2 = 50.0 UAH\n",
            "Keyboard - $50.0 UAH x 1 = 50.0 UAH\n",
            "Total cost after percentage discount: 850.0\n",
            "Laptop - $730.0 UAH x 1 = 730.0 UAH\n",
            "Mouse - $5.0 UAH x 2 = 10.0 UAH\n",
            "Keyboard - $30.0 UAH x 1 = 30.0 UAH\n",
            "Total cost after fixed amount discount: 770.0\n",
            "Paying $770.0 with credit card 1234-5678-9876-5432\n",
            "Paying $770.0 with PayPal account john.doe@example.com\n",
            "Paying $770.0 with bank transfer from account 987654321\n"
          ]
        }
      ]
    }
  ]
}
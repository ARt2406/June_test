{
  "nbformat": 4,
  "nbformat_minor": 0,
  "metadata": {
    "colab": {
      "provenance": [],
      "name": "Lessons_Pack_01",
      "authorship_tag": "ABX9TyNKTp9bgWdr+l/qCvBUj3IU",
      "include_colab_link": true
    },
    "kernelspec": {
      "name": "python3",
      "display_name": "Python 3"
    },
    "language_info": {
      "name": "python"
    }
  },
  "cells": [
    {
      "cell_type": "markdown",
      "metadata": {
        "id": "view-in-github",
        "colab_type": "text"
      },
      "source": [
        "<a href=\"https://colab.research.google.com/github/ARt2406/June_test/blob/main/Lessons_Pack_01.ipynb\" target=\"_parent\"><img src=\"https://colab.research.google.com/assets/colab-badge.svg\" alt=\"Open In Colab\"/></a>"
      ]
    },
    {
      "cell_type": "code",
      "execution_count": 25,
      "metadata": {
        "colab": {
          "base_uri": "https://localhost:8080/"
        },
        "id": "h_o9--c8vIfM",
        "outputId": "66c910bb-fded-4d4c-a80c-79d068a98795"
      },
      "outputs": [
        {
          "output_type": "stream",
          "name": "stdout",
          "text": [
            "Overwriting my_package/math_operations.py\n"
          ]
        }
      ],
      "source": [
        "# Создание папки для пакета\n",
        "#!mkdir my_package\n",
        "\n",
        "  # Создание __init__.py файла\n",
        "#%%writefile my_package/__init__.py\n",
        "# __init__.py может быть пустым\n",
        "\n",
        "  # Создание модуля math_operations.py внутри пакета\n",
        "#%%writefile my_package/math_operations.py\n",
        "\n",
        "def add(a, b):\n",
        "    return a + b\n",
        "\n",
        "def subtract(a, b):\n",
        "    return a - b\n",
        "\n"
      ]
    },
    {
      "cell_type": "code",
      "source": [
        "from my_package import math_operations\n",
        "\n",
        "\n",
        "\n",
        "print('addiction', math_operations.add(8, 2))\n",
        "print('addiction', math_operations.subtract(8, 2))"
      ],
      "metadata": {
        "colab": {
          "base_uri": "https://localhost:8080/"
        },
        "id": "Yz-WaQ60IECu",
        "outputId": "76406e94-9bdf-4404-a2f5-f6fa735c1e9e"
      },
      "execution_count": 27,
      "outputs": [
        {
          "output_type": "stream",
          "name": "stdout",
          "text": [
            "addiction 10\n",
            "addiction 6\n"
          ]
        }
      ]
    }
  ]
}
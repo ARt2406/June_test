{
  "nbformat": 4,
  "nbformat_minor": 0,
  "metadata": {
    "colab": {
      "provenance": [],
      "name": "HomeWork_Random_06.ipynb",
      "authorship_tag": "ABX9TyNfzTS8mbFvEM2Tq9aEZEXr",
      "include_colab_link": true
    },
    "kernelspec": {
      "name": "python3",
      "display_name": "Python 3"
    },
    "language_info": {
      "name": "python"
    }
  },
  "cells": [
    {
      "cell_type": "markdown",
      "metadata": {
        "id": "view-in-github",
        "colab_type": "text"
      },
      "source": [
        "<a href=\"https://colab.research.google.com/github/ARt2406/June_test/blob/main/HomeWork_Random_06.ipynb\" target=\"_parent\"><img src=\"https://colab.research.google.com/assets/colab-badge.svg\" alt=\"Open In Colab\"/></a>"
      ]
    },
    {
      "cell_type": "code",
      "execution_count": 33,
      "metadata": {
        "id": "h_o9--c8vIfM",
        "colab": {
          "base_uri": "https://localhost:8080/"
        },
        "outputId": "8ef9a9ee-582b-44f4-afb8-dd661becbd77"
      },
      "outputs": [
        {
          "output_type": "stream",
          "name": "stdout",
          "text": [
            "\"Название Inception, Режиссёр: Christopher Nolan, 2010 Жанр: Sci-Fi\"\n",
            "\"Название The Godfather, Режиссёр: Francis Ford Coppola, 1972 Жанр: Crime\"\n",
            "False\n",
            "True\n"
          ]
        }
      ],
      "source": [
        "class Movie():\n",
        "\n",
        "  def __init__(self, title, director, year, genre) -> None:\n",
        "    self.title = title\n",
        "    self.year = year\n",
        "    self.director = director\n",
        "    self.genre = genre\n",
        "\n",
        "  def get_info(self):\n",
        "    return f'\"Название {self.title}, Режиссёр: {self.director}, {self.year} Жанр: {self.genre}\"'\n",
        "\n",
        "  def is_classic(self, this_year=None):\n",
        "    from datetime import datetime\n",
        "    if this_year is None:\n",
        "      this_year = datetime.now().year\n",
        "    if this_year - self.year > 30:\n",
        "      return True\n",
        "    else:\n",
        "      return False\n",
        "\n",
        "\n",
        "movie1 = Movie(\"Inception\", \"Christopher Nolan\", 2010, \"Sci-Fi\")\n",
        "movie2 = Movie(\"The Godfather\", \"Francis Ford Coppola\", 1972, \"Crime\")\n",
        "\n",
        "print(movie1.get_info())\n",
        "print(movie2.get_info())\n",
        "\n",
        "print(movie1.is_classic())\n",
        "print(movie2.is_classic())"
      ]
    }
  ]
}
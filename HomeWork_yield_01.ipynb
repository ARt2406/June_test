{
  "nbformat": 4,
  "nbformat_minor": 0,
  "metadata": {
    "colab": {
      "provenance": [],
      "name": "HomeWork_yield_01.ipynb",
      "authorship_tag": "ABX9TyP4s6q+Snk3Pyli2+LSZaLa",
      "include_colab_link": true
    },
    "kernelspec": {
      "name": "python3",
      "display_name": "Python 3"
    },
    "language_info": {
      "name": "python"
    }
  },
  "cells": [
    {
      "cell_type": "markdown",
      "metadata": {
        "id": "view-in-github",
        "colab_type": "text"
      },
      "source": [
        "<a href=\"https://colab.research.google.com/github/ARt2406/June_test/blob/main/HomeWork_yield_01.ipynb\" target=\"_parent\"><img src=\"https://colab.research.google.com/assets/colab-badge.svg\" alt=\"Open In Colab\"/></a>"
      ]
    },
    {
      "cell_type": "code",
      "execution_count": 20,
      "metadata": {
        "id": "h_o9--c8vIfM",
        "colab": {
          "base_uri": "https://localhost:8080/"
        },
        "outputId": "4d459fa6-de4d-4f70-a9a0-bf53625b2cc8"
      },
      "outputs": [
        {
          "output_type": "stream",
          "name": "stdout",
          "text": [
            "3\n",
            "5\n",
            "5\n",
            "3\n",
            "5\n",
            "4\n",
            "3\n",
            "4\n",
            "3\n"
          ]
        }
      ],
      "source": [
        "def word_lengths(sentence):\n",
        "   x =  sentence.split()\n",
        "   for i in x:\n",
        "      yield len(i)\n",
        "\n",
        "sentence = \"The quick brown fox jumps over the lazy dog\"\n",
        "for length in word_lengths(sentence):\n",
        "    print(length)\n"
      ]
    }
  ]
}
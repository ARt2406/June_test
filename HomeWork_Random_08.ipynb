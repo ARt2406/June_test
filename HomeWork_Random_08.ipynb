{
  "nbformat": 4,
  "nbformat_minor": 0,
  "metadata": {
    "colab": {
      "provenance": [],
      "name": "HomeWork_Random_08.ipynb",
      "authorship_tag": "ABX9TyMPxdCRwfs6D1F0zPwSoDa9",
      "include_colab_link": true
    },
    "kernelspec": {
      "name": "python3",
      "display_name": "Python 3"
    },
    "language_info": {
      "name": "python"
    }
  },
  "cells": [
    {
      "cell_type": "markdown",
      "metadata": {
        "id": "view-in-github",
        "colab_type": "text"
      },
      "source": [
        "<a href=\"https://colab.research.google.com/github/ARt2406/June_test/blob/main/HomeWork_Random_08.ipynb\" target=\"_parent\"><img src=\"https://colab.research.google.com/assets/colab-badge.svg\" alt=\"Open In Colab\"/></a>"
      ]
    },
    {
      "cell_type": "code",
      "execution_count": 9,
      "metadata": {
        "id": "h_o9--c8vIfM",
        "colab": {
          "base_uri": "https://localhost:8080/"
        },
        "outputId": "913a4cf3-eb4c-422a-8e8c-8c80bdfe82a7"
      },
      "outputs": [
        {
          "output_type": "stream",
          "name": "stdout",
          "text": [
            "Книги автора Christopher Nolan:\n",
            "Inception, Christopher Nolan, 2010, Sci-Fi\n",
            "The Dark Knight, Christopher Nolan, 2008, Action\n",
            "The Dark Knight, Christopher Nolan, 2008, Action\n",
            "Pulp Fiction, Quentin Tarantino, 1994, Crime\n",
            "Django Unchained, Quentin Tarantino, 2012, Western\n"
          ]
        }
      ],
      "source": [
        "class MovieCollection:\n",
        "\n",
        "  def __init__(self) -> None:\n",
        "    self.films = []\n",
        "\n",
        "  def add_film(self, film):\n",
        "    return self.films.append(film)\n",
        "\n",
        "  def remove_film(self, film):\n",
        "    return self.films.remove(film)\n",
        "\n",
        "  def find_film_by_author(self,author):\n",
        "    found_films = [film for film in self.films if film.author.lower() == author.lower()]\n",
        "    if found_films:\n",
        "      print(f'Книги автора {author}:')\n",
        "      for film in found_films:\n",
        "        print(film)\n",
        "\n",
        "  def list_films(self):\n",
        "    if self.films:\n",
        "      for film in self.films:\n",
        "        print(film)\n",
        "\n",
        "class Movie:\n",
        "  def __init__(self, title, author, year, action) -> None:\n",
        "    self.title = title\n",
        "    self.author = author\n",
        "    self.year = year\n",
        "    self.action = action\n",
        "\n",
        "  def __str__(self) -> str:\n",
        "    return f'{self.title}, {self.author}, {self.year}, {self.action}'\n",
        "\n",
        "\n",
        "\n",
        "collection = MovieCollection()\n",
        "\n",
        "movie1 = Movie(\"Inception\", \"Christopher Nolan\", 2010, \"Sci-Fi\")\n",
        "movie2 = Movie(\"The Dark Knight\", \"Christopher Nolan\", 2008, \"Action\")\n",
        "movie3 = Movie(\"Pulp Fiction\", \"Quentin Tarantino\", 1994, \"Crime\")\n",
        "movie4 = Movie(\"Django Unchained\", \"Quentin Tarantino\", 2012, \"Western\")\n",
        "\n",
        "collection.add_film(movie1)\n",
        "collection.add_film(movie2)\n",
        "collection.add_film(movie3)\n",
        "collection.add_film(movie4)\n",
        "\n",
        "# Поиск фильмов по режиссёру\n",
        "collection.find_film_by_author(\"Christopher Nolan\")\n",
        "\n",
        "# Удаление фильма\n",
        "collection.remove_film(movie1)\n",
        "\n",
        "# Вывод всех фильмов в коллекции\n",
        "collection.list_films()"
      ]
    }
  ]
}